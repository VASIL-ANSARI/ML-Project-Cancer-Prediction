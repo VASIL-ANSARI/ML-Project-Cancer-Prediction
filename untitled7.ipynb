{
  "nbformat": 4,
  "nbformat_minor": 0,
  "metadata": {
    "colab": {
      "name": "Untitled7.ipynb",
      "provenance": [],
      "collapsed_sections": [],
      "toc_visible": true,
      "authorship_tag": "ABX9TyPMX6xzSPWPc2KgHn5+6LJj",
      "include_colab_link": true
    },
    "kernelspec": {
      "name": "python3",
      "display_name": "Python 3"
    },
    "accelerator": "GPU"
  },
  "cells": [
    {
      "cell_type": "markdown",
      "metadata": {
        "id": "view-in-github",
        "colab_type": "text"
      },
      "source": [
        "<a href=\"https://colab.research.google.com/gist/VASIL-ANSARI/01e5141b18909098467263cb9db461a6/untitled7.ipynb\" target=\"_parent\"><img src=\"https://colab.research.google.com/assets/colab-badge.svg\" alt=\"Open In Colab\"/></a>"
      ]
    },
    {
      "cell_type": "code",
      "metadata": {
        "id": "ar9dlC04d6G-",
        "colab_type": "code",
        "outputId": "8b031f31-28db-4fde-9c82-d0b40818d091",
        "colab": {
          "base_uri": "https://localhost:8080/",
          "height": 35
        }
      },
      "source": [
        "import tensorflow as tf \n",
        "tf.test.gpu_device_name() "
      ],
      "execution_count": 9,
      "outputs": [
        {
          "output_type": "execute_result",
          "data": {
            "text/plain": [
              "'/device:GPU:0'"
            ]
          },
          "metadata": {
            "tags": []
          },
          "execution_count": 9
        }
      ]
    },
    {
      "cell_type": "code",
      "metadata": {
        "id": "dYXXWfOPefTZ",
        "colab_type": "code",
        "outputId": "ef4a3f72-50eb-45a4-feb8-e6a1ee834899",
        "colab": {
          "base_uri": "https://localhost:8080/",
          "height": 124
        }
      },
      "source": [
        "! pip install pandas "
      ],
      "execution_count": 10,
      "outputs": [
        {
          "output_type": "stream",
          "text": [
            "Requirement already satisfied: pandas in /usr/local/lib/python3.6/dist-packages (0.25.3)\n",
            "Requirement already satisfied: numpy>=1.13.3 in /usr/local/lib/python3.6/dist-packages (from pandas) (1.17.5)\n",
            "Requirement already satisfied: python-dateutil>=2.6.1 in /usr/local/lib/python3.6/dist-packages (from pandas) (2.6.1)\n",
            "Requirement already satisfied: pytz>=2017.2 in /usr/local/lib/python3.6/dist-packages (from pandas) (2018.9)\n",
            "Requirement already satisfied: six>=1.5 in /usr/local/lib/python3.6/dist-packages (from python-dateutil>=2.6.1->pandas) (1.12.0)\n"
          ],
          "name": "stdout"
        }
      ]
    },
    {
      "cell_type": "code",
      "metadata": {
        "id": "YSN2PgRjemXI",
        "colab_type": "code",
        "outputId": "38282407-29f6-4c11-947e-a501a0a242d2",
        "colab": {
          "base_uri": "https://localhost:8080/",
          "height": 35
        }
      },
      "source": [
        "! git clone https://github.com/VASIL-ANSARI/ML-Project-Cancer-Prediction.git"
      ],
      "execution_count": 11,
      "outputs": [
        {
          "output_type": "stream",
          "text": [
            "fatal: destination path 'ML-Project-Cancer-Prediction' already exists and is not an empty directory.\n"
          ],
          "name": "stdout"
        }
      ]
    },
    {
      "cell_type": "code",
      "metadata": {
        "id": "uBXVWujnfDyC",
        "colab_type": "code",
        "outputId": "88235383-4852-4829-d600-2f987b2e58fb",
        "colab": {
          "resources": {
            "http://localhost:8080/nbextensions/google.colab/files.js": {
              "data": "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",
              "ok": true,
              "headers": [
                [
                  "content-type",
                  "application/javascript"
                ]
              ],
              "status": 200,
              "status_text": ""
            }
          },
          "base_uri": "https://localhost:8080/",
          "height": 75
        }
      },
      "source": [
        "from google.colab import files \n",
        "uploaded = files.upload() "
      ],
      "execution_count": 12,
      "outputs": [
        {
          "output_type": "display_data",
          "data": {
            "text/html": [
              "\n",
              "     <input type=\"file\" id=\"files-b8bc0d6b-55db-46f2-a418-23ff398955b0\" name=\"files[]\" multiple disabled />\n",
              "     <output id=\"result-b8bc0d6b-55db-46f2-a418-23ff398955b0\">\n",
              "      Upload widget is only available when the cell has been executed in the\n",
              "      current browser session. Please rerun this cell to enable.\n",
              "      </output>\n",
              "      <script src=\"/nbextensions/google.colab/files.js\"></script> "
            ],
            "text/plain": [
              "<IPython.core.display.HTML object>"
            ]
          },
          "metadata": {
            "tags": []
          }
        },
        {
          "output_type": "stream",
          "text": [
            "Saving training_variants to training_variants\n"
          ],
          "name": "stdout"
        }
      ]
    },
    {
      "cell_type": "code",
      "metadata": {
        "id": "YhyywPitg16e",
        "colab_type": "code",
        "colab": {}
      },
      "source": [
        "# Loading all required packages\n",
        "import pandas as pd\n",
        "import matplotlib.pyplot as plt\n",
        "import re\n",
        "import time\n",
        "import warnings\n",
        "import numpy as np\n",
        "from nltk.corpus import stopwords\n",
        "from sklearn.decomposition import TruncatedSVD\n",
        "from sklearn.preprocessing import normalize\n",
        "from sklearn.feature_extraction.text import CountVectorizer\n",
        "from sklearn.manifold import TSNE\n",
        "import seaborn as sns\n",
        "from sklearn.neighbors import KNeighborsClassifier\n",
        "from sklearn.metrics import confusion_matrix\n",
        "from sklearn.metrics.classification import accuracy_score, log_loss\n",
        "from sklearn.feature_extraction.text import TfidfVectorizer\n",
        "from sklearn.linear_model import SGDClassifier\n",
        "from imblearn.over_sampling import SMOTE\n",
        "from collections import Counter\n",
        "from scipy.sparse import hstack\n",
        "from sklearn.multiclass import OneVsRestClassifier\n",
        "from sklearn.svm import SVC\n",
        "from sklearn.model_selection import StratifiedKFold \n",
        "from collections import Counter, defaultdict\n",
        "from sklearn.calibration import CalibratedClassifierCV\n",
        "from sklearn.naive_bayes import MultinomialNB\n",
        "from sklearn.naive_bayes import GaussianNB\n",
        "from sklearn.model_selection import train_test_split\n",
        "from sklearn.model_selection import GridSearchCV\n",
        "import math\n",
        "from sklearn.metrics import normalized_mutual_info_score\n",
        "from sklearn.ensemble import RandomForestClassifier\n",
        "warnings.filterwarnings(\"ignore\")\n",
        "\n",
        "from mlxtend.classifier import StackingClassifier\n",
        "\n",
        "from sklearn import model_selection\n",
        "from sklearn.linear_model import LogisticRegression"
      ],
      "execution_count": 0,
      "outputs": []
    },
    {
      "cell_type": "code",
      "metadata": {
        "id": "9QbGP4CJfyn9",
        "colab_type": "code",
        "colab": {}
      },
      "source": [
        "import io \n",
        "data_variants = pd.read_csv(io.BytesIO(uploaded['training_variants'])) "
      ],
      "execution_count": 0,
      "outputs": []
    },
    {
      "cell_type": "code",
      "metadata": {
        "id": "c3pdPsWDhmsO",
        "colab_type": "code",
        "outputId": "718a300b-d9fa-4ab4-836e-a67377bcb7d6",
        "colab": {
          "base_uri": "https://localhost:8080/",
          "height": 141
        }
      },
      "source": [
        "data_variants.head(3)"
      ],
      "execution_count": 15,
      "outputs": [
        {
          "output_type": "execute_result",
          "data": {
            "text/html": [
              "<div>\n",
              "<style scoped>\n",
              "    .dataframe tbody tr th:only-of-type {\n",
              "        vertical-align: middle;\n",
              "    }\n",
              "\n",
              "    .dataframe tbody tr th {\n",
              "        vertical-align: top;\n",
              "    }\n",
              "\n",
              "    .dataframe thead th {\n",
              "        text-align: right;\n",
              "    }\n",
              "</style>\n",
              "<table border=\"1\" class=\"dataframe\">\n",
              "  <thead>\n",
              "    <tr style=\"text-align: right;\">\n",
              "      <th></th>\n",
              "      <th>ID</th>\n",
              "      <th>Gene</th>\n",
              "      <th>Variation</th>\n",
              "      <th>Class</th>\n",
              "    </tr>\n",
              "  </thead>\n",
              "  <tbody>\n",
              "    <tr>\n",
              "      <th>0</th>\n",
              "      <td>0</td>\n",
              "      <td>FAM58A</td>\n",
              "      <td>Truncating Mutations</td>\n",
              "      <td>1</td>\n",
              "    </tr>\n",
              "    <tr>\n",
              "      <th>1</th>\n",
              "      <td>1</td>\n",
              "      <td>CBL</td>\n",
              "      <td>W802*</td>\n",
              "      <td>2</td>\n",
              "    </tr>\n",
              "    <tr>\n",
              "      <th>2</th>\n",
              "      <td>2</td>\n",
              "      <td>CBL</td>\n",
              "      <td>Q249E</td>\n",
              "      <td>2</td>\n",
              "    </tr>\n",
              "  </tbody>\n",
              "</table>\n",
              "</div>"
            ],
            "text/plain": [
              "   ID    Gene             Variation  Class\n",
              "0   0  FAM58A  Truncating Mutations      1\n",
              "1   1     CBL                 W802*      2\n",
              "2   2     CBL                 Q249E      2"
            ]
          },
          "metadata": {
            "tags": []
          },
          "execution_count": 15
        }
      ]
    },
    {
      "cell_type": "code",
      "metadata": {
        "id": "Aa5oq7Ssc3wO",
        "colab_type": "code",
        "outputId": "98aeff24-cbfe-45ee-c2da-faf294cf7ecd",
        "colab": {
          "base_uri": "https://localhost:8080/",
          "height": 263
        }
      },
      "source": [
        "!pip install PyDrive"
      ],
      "execution_count": 16,
      "outputs": [
        {
          "output_type": "stream",
          "text": [
            "Requirement already satisfied: PyDrive in /usr/local/lib/python3.6/dist-packages (1.3.1)\n",
            "Requirement already satisfied: PyYAML>=3.0 in /usr/local/lib/python3.6/dist-packages (from PyDrive) (3.13)\n",
            "Requirement already satisfied: google-api-python-client>=1.2 in /usr/local/lib/python3.6/dist-packages (from PyDrive) (1.7.11)\n",
            "Requirement already satisfied: oauth2client>=4.0.0 in /usr/local/lib/python3.6/dist-packages (from PyDrive) (4.1.3)\n",
            "Requirement already satisfied: google-auth-httplib2>=0.0.3 in /usr/local/lib/python3.6/dist-packages (from google-api-python-client>=1.2->PyDrive) (0.0.3)\n",
            "Requirement already satisfied: google-auth>=1.4.1 in /usr/local/lib/python3.6/dist-packages (from google-api-python-client>=1.2->PyDrive) (1.4.2)\n",
            "Requirement already satisfied: six<2dev,>=1.6.1 in /usr/local/lib/python3.6/dist-packages (from google-api-python-client>=1.2->PyDrive) (1.12.0)\n",
            "Requirement already satisfied: uritemplate<4dev,>=3.0.0 in /usr/local/lib/python3.6/dist-packages (from google-api-python-client>=1.2->PyDrive) (3.0.1)\n",
            "Requirement already satisfied: httplib2<1dev,>=0.9.2 in /usr/local/lib/python3.6/dist-packages (from google-api-python-client>=1.2->PyDrive) (0.11.3)\n",
            "Requirement already satisfied: pyasn1>=0.1.7 in /usr/local/lib/python3.6/dist-packages (from oauth2client>=4.0.0->PyDrive) (0.4.8)\n",
            "Requirement already satisfied: pyasn1-modules>=0.0.5 in /usr/local/lib/python3.6/dist-packages (from oauth2client>=4.0.0->PyDrive) (0.2.7)\n",
            "Requirement already satisfied: rsa>=3.1.4 in /usr/local/lib/python3.6/dist-packages (from oauth2client>=4.0.0->PyDrive) (4.0)\n",
            "Requirement already satisfied: cachetools>=2.0.0 in /usr/local/lib/python3.6/dist-packages (from google-auth>=1.4.1->google-api-python-client>=1.2->PyDrive) (4.0.0)\n"
          ],
          "name": "stdout"
        }
      ]
    },
    {
      "cell_type": "code",
      "metadata": {
        "id": "9ovbtRgzc8Ju",
        "colab_type": "code",
        "colab": {}
      },
      "source": [
        "from pydrive.auth import GoogleAuth\n",
        "from pydrive.drive import GoogleDrive\n",
        "from google.colab import auth\n",
        "from oauth2client.client import GoogleCredentials"
      ],
      "execution_count": 0,
      "outputs": []
    },
    {
      "cell_type": "code",
      "metadata": {
        "id": "vu0M-lNHc_Sf",
        "colab_type": "code",
        "colab": {}
      },
      "source": [
        "auth.authenticate_user()\n",
        "gauth = GoogleAuth()\n",
        "gauth.credentials = GoogleCredentials.get_application_default()\n",
        "drive = GoogleDrive(gauth)"
      ],
      "execution_count": 0,
      "outputs": []
    },
    {
      "cell_type": "code",
      "metadata": {
        "id": "1YOLcTWGdRSu",
        "colab_type": "code",
        "colab": {}
      },
      "source": [
        "downloaded = drive.CreateFile({'id':\"15R4gz4VNGOE61GL9FoFWyCDYGjQMvp7D\"})   # replace the id with id of file you want to access\n",
        "downloaded.GetContentFile('training_text.csv')"
      ],
      "execution_count": 0,
      "outputs": []
    },
    {
      "cell_type": "code",
      "metadata": {
        "id": "QgPzD5VLhwCc",
        "colab_type": "code",
        "colab": {}
      },
      "source": [
        "data_text =pd.read_csv(\"training_text.csv\",sep=\"\\|\\|\",engine=\"python\",names=[\"ID\",\"TEXT\"],skiprows=1)"
      ],
      "execution_count": 0,
      "outputs": []
    },
    {
      "cell_type": "code",
      "metadata": {
        "id": "jsuKf02-ix4x",
        "colab_type": "code",
        "outputId": "0bab7144-9ccb-4f43-d655-62b45756407b",
        "colab": {
          "base_uri": "https://localhost:8080/",
          "height": 173
        }
      },
      "source": [
        "data_variants.info()"
      ],
      "execution_count": 21,
      "outputs": [
        {
          "output_type": "stream",
          "text": [
            "<class 'pandas.core.frame.DataFrame'>\n",
            "RangeIndex: 3321 entries, 0 to 3320\n",
            "Data columns (total 4 columns):\n",
            "ID           3321 non-null int64\n",
            "Gene         3321 non-null object\n",
            "Variation    3321 non-null object\n",
            "Class        3321 non-null int64\n",
            "dtypes: int64(2), object(2)\n",
            "memory usage: 103.9+ KB\n"
          ],
          "name": "stdout"
        }
      ]
    },
    {
      "cell_type": "code",
      "metadata": {
        "id": "Mruq8lhBneid",
        "colab_type": "code",
        "outputId": "a78ef22a-69f2-4b74-efb4-f305c68bf907",
        "colab": {
          "base_uri": "https://localhost:8080/",
          "height": 294
        }
      },
      "source": [
        "data_variants.describe()"
      ],
      "execution_count": 22,
      "outputs": [
        {
          "output_type": "execute_result",
          "data": {
            "text/html": [
              "<div>\n",
              "<style scoped>\n",
              "    .dataframe tbody tr th:only-of-type {\n",
              "        vertical-align: middle;\n",
              "    }\n",
              "\n",
              "    .dataframe tbody tr th {\n",
              "        vertical-align: top;\n",
              "    }\n",
              "\n",
              "    .dataframe thead th {\n",
              "        text-align: right;\n",
              "    }\n",
              "</style>\n",
              "<table border=\"1\" class=\"dataframe\">\n",
              "  <thead>\n",
              "    <tr style=\"text-align: right;\">\n",
              "      <th></th>\n",
              "      <th>ID</th>\n",
              "      <th>Class</th>\n",
              "    </tr>\n",
              "  </thead>\n",
              "  <tbody>\n",
              "    <tr>\n",
              "      <th>count</th>\n",
              "      <td>3321.000000</td>\n",
              "      <td>3321.000000</td>\n",
              "    </tr>\n",
              "    <tr>\n",
              "      <th>mean</th>\n",
              "      <td>1660.000000</td>\n",
              "      <td>4.365854</td>\n",
              "    </tr>\n",
              "    <tr>\n",
              "      <th>std</th>\n",
              "      <td>958.834449</td>\n",
              "      <td>2.309781</td>\n",
              "    </tr>\n",
              "    <tr>\n",
              "      <th>min</th>\n",
              "      <td>0.000000</td>\n",
              "      <td>1.000000</td>\n",
              "    </tr>\n",
              "    <tr>\n",
              "      <th>25%</th>\n",
              "      <td>830.000000</td>\n",
              "      <td>2.000000</td>\n",
              "    </tr>\n",
              "    <tr>\n",
              "      <th>50%</th>\n",
              "      <td>1660.000000</td>\n",
              "      <td>4.000000</td>\n",
              "    </tr>\n",
              "    <tr>\n",
              "      <th>75%</th>\n",
              "      <td>2490.000000</td>\n",
              "      <td>7.000000</td>\n",
              "    </tr>\n",
              "    <tr>\n",
              "      <th>max</th>\n",
              "      <td>3320.000000</td>\n",
              "      <td>9.000000</td>\n",
              "    </tr>\n",
              "  </tbody>\n",
              "</table>\n",
              "</div>"
            ],
            "text/plain": [
              "                ID        Class\n",
              "count  3321.000000  3321.000000\n",
              "mean   1660.000000     4.365854\n",
              "std     958.834449     2.309781\n",
              "min       0.000000     1.000000\n",
              "25%     830.000000     2.000000\n",
              "50%    1660.000000     4.000000\n",
              "75%    2490.000000     7.000000\n",
              "max    3320.000000     9.000000"
            ]
          },
          "metadata": {
            "tags": []
          },
          "execution_count": 22
        }
      ]
    },
    {
      "cell_type": "code",
      "metadata": {
        "id": "a5zc8ZscnkBa",
        "colab_type": "code",
        "outputId": "25532dc7-4b1f-4c36-97e0-be55c3f07f75",
        "colab": {
          "base_uri": "https://localhost:8080/",
          "height": 35
        }
      },
      "source": [
        "data_variants.shape"
      ],
      "execution_count": 23,
      "outputs": [
        {
          "output_type": "execute_result",
          "data": {
            "text/plain": [
              "(3321, 4)"
            ]
          },
          "metadata": {
            "tags": []
          },
          "execution_count": 23
        }
      ]
    },
    {
      "cell_type": "code",
      "metadata": {
        "id": "IpKvGprKnoMF",
        "colab_type": "code",
        "outputId": "32cffaf3-12d7-4e94-ce91-1080156635db",
        "colab": {
          "base_uri": "https://localhost:8080/",
          "height": 35
        }
      },
      "source": [
        "data_variants.columns"
      ],
      "execution_count": 24,
      "outputs": [
        {
          "output_type": "execute_result",
          "data": {
            "text/plain": [
              "Index(['ID', 'Gene', 'Variation', 'Class'], dtype='object')"
            ]
          },
          "metadata": {
            "tags": []
          },
          "execution_count": 24
        }
      ]
    },
    {
      "cell_type": "code",
      "metadata": {
        "id": "esqmsTpy-Sry",
        "colab_type": "code",
        "outputId": "87ffa8d3-a82f-4f81-c4be-defbc8241869",
        "colab": {
          "base_uri": "https://localhost:8080/",
          "height": 141
        }
      },
      "source": [
        "data_text.head(3)"
      ],
      "execution_count": 25,
      "outputs": [
        {
          "output_type": "execute_result",
          "data": {
            "text/html": [
              "<div>\n",
              "<style scoped>\n",
              "    .dataframe tbody tr th:only-of-type {\n",
              "        vertical-align: middle;\n",
              "    }\n",
              "\n",
              "    .dataframe tbody tr th {\n",
              "        vertical-align: top;\n",
              "    }\n",
              "\n",
              "    .dataframe thead th {\n",
              "        text-align: right;\n",
              "    }\n",
              "</style>\n",
              "<table border=\"1\" class=\"dataframe\">\n",
              "  <thead>\n",
              "    <tr style=\"text-align: right;\">\n",
              "      <th></th>\n",
              "      <th>ID</th>\n",
              "      <th>TEXT</th>\n",
              "    </tr>\n",
              "  </thead>\n",
              "  <tbody>\n",
              "    <tr>\n",
              "      <th>0</th>\n",
              "      <td>0</td>\n",
              "      <td>Cyclin-dependent kinases (CDKs) regulate a var...</td>\n",
              "    </tr>\n",
              "    <tr>\n",
              "      <th>1</th>\n",
              "      <td>1</td>\n",
              "      <td>Abstract Background  Non-small cell lung canc...</td>\n",
              "    </tr>\n",
              "    <tr>\n",
              "      <th>2</th>\n",
              "      <td>2</td>\n",
              "      <td>Abstract Background  Non-small cell lung canc...</td>\n",
              "    </tr>\n",
              "  </tbody>\n",
              "</table>\n",
              "</div>"
            ],
            "text/plain": [
              "   ID                                               TEXT\n",
              "0   0  Cyclin-dependent kinases (CDKs) regulate a var...\n",
              "1   1   Abstract Background  Non-small cell lung canc...\n",
              "2   2   Abstract Background  Non-small cell lung canc..."
            ]
          },
          "metadata": {
            "tags": []
          },
          "execution_count": 25
        }
      ]
    },
    {
      "cell_type": "code",
      "metadata": {
        "id": "cNAONncE_C2l",
        "colab_type": "code",
        "outputId": "4fa73abb-e834-461d-dde1-1046c7c242f8",
        "colab": {
          "base_uri": "https://localhost:8080/",
          "height": 139
        }
      },
      "source": [
        "data_text.info()"
      ],
      "execution_count": 26,
      "outputs": [
        {
          "output_type": "stream",
          "text": [
            "<class 'pandas.core.frame.DataFrame'>\n",
            "RangeIndex: 3321 entries, 0 to 3320\n",
            "Data columns (total 2 columns):\n",
            "ID      3321 non-null int64\n",
            "TEXT    3316 non-null object\n",
            "dtypes: int64(1), object(1)\n",
            "memory usage: 52.0+ KB\n"
          ],
          "name": "stdout"
        }
      ]
    },
    {
      "cell_type": "code",
      "metadata": {
        "id": "fxA_vkB7d0qw",
        "colab_type": "code",
        "outputId": "8d067153-8e3a-486d-c0b3-3430c7736a95",
        "colab": {
          "base_uri": "https://localhost:8080/",
          "height": 294
        }
      },
      "source": [
        "data_text.describe()"
      ],
      "execution_count": 27,
      "outputs": [
        {
          "output_type": "execute_result",
          "data": {
            "text/html": [
              "<div>\n",
              "<style scoped>\n",
              "    .dataframe tbody tr th:only-of-type {\n",
              "        vertical-align: middle;\n",
              "    }\n",
              "\n",
              "    .dataframe tbody tr th {\n",
              "        vertical-align: top;\n",
              "    }\n",
              "\n",
              "    .dataframe thead th {\n",
              "        text-align: right;\n",
              "    }\n",
              "</style>\n",
              "<table border=\"1\" class=\"dataframe\">\n",
              "  <thead>\n",
              "    <tr style=\"text-align: right;\">\n",
              "      <th></th>\n",
              "      <th>ID</th>\n",
              "    </tr>\n",
              "  </thead>\n",
              "  <tbody>\n",
              "    <tr>\n",
              "      <th>count</th>\n",
              "      <td>3321.000000</td>\n",
              "    </tr>\n",
              "    <tr>\n",
              "      <th>mean</th>\n",
              "      <td>1660.000000</td>\n",
              "    </tr>\n",
              "    <tr>\n",
              "      <th>std</th>\n",
              "      <td>958.834449</td>\n",
              "    </tr>\n",
              "    <tr>\n",
              "      <th>min</th>\n",
              "      <td>0.000000</td>\n",
              "    </tr>\n",
              "    <tr>\n",
              "      <th>25%</th>\n",
              "      <td>830.000000</td>\n",
              "    </tr>\n",
              "    <tr>\n",
              "      <th>50%</th>\n",
              "      <td>1660.000000</td>\n",
              "    </tr>\n",
              "    <tr>\n",
              "      <th>75%</th>\n",
              "      <td>2490.000000</td>\n",
              "    </tr>\n",
              "    <tr>\n",
              "      <th>max</th>\n",
              "      <td>3320.000000</td>\n",
              "    </tr>\n",
              "  </tbody>\n",
              "</table>\n",
              "</div>"
            ],
            "text/plain": [
              "                ID\n",
              "count  3321.000000\n",
              "mean   1660.000000\n",
              "std     958.834449\n",
              "min       0.000000\n",
              "25%     830.000000\n",
              "50%    1660.000000\n",
              "75%    2490.000000\n",
              "max    3320.000000"
            ]
          },
          "metadata": {
            "tags": []
          },
          "execution_count": 27
        }
      ]
    },
    {
      "cell_type": "code",
      "metadata": {
        "id": "RQ308QlpeAsN",
        "colab_type": "code",
        "outputId": "22f9da4d-a96a-4c5b-bba3-c1968ffa1e60",
        "colab": {
          "base_uri": "https://localhost:8080/",
          "height": 35
        }
      },
      "source": [
        "data_text.columns"
      ],
      "execution_count": 28,
      "outputs": [
        {
          "output_type": "execute_result",
          "data": {
            "text/plain": [
              "Index(['ID', 'TEXT'], dtype='object')"
            ]
          },
          "metadata": {
            "tags": []
          },
          "execution_count": 28
        }
      ]
    },
    {
      "cell_type": "code",
      "metadata": {
        "id": "wi4yX_oleKIe",
        "colab_type": "code",
        "outputId": "ffd9c32a-d8eb-453e-de79-ab14a7facf56",
        "colab": {
          "base_uri": "https://localhost:8080/",
          "height": 35
        }
      },
      "source": [
        "data_text.shape"
      ],
      "execution_count": 29,
      "outputs": [
        {
          "output_type": "execute_result",
          "data": {
            "text/plain": [
              "(3321, 2)"
            ]
          },
          "metadata": {
            "tags": []
          },
          "execution_count": 29
        }
      ]
    },
    {
      "cell_type": "code",
      "metadata": {
        "id": "w4G2V1-7ePI9",
        "colab_type": "code",
        "outputId": "b25e2d7a-a551-40c4-a1cf-c6529293f3c2",
        "colab": {
          "base_uri": "https://localhost:8080/",
          "height": 35
        }
      },
      "source": [
        "data_variants.Class.unique()"
      ],
      "execution_count": 30,
      "outputs": [
        {
          "output_type": "execute_result",
          "data": {
            "text/plain": [
              "array([1, 2, 3, 4, 5, 6, 7, 8, 9])"
            ]
          },
          "metadata": {
            "tags": []
          },
          "execution_count": 30
        }
      ]
    },
    {
      "cell_type": "code",
      "metadata": {
        "id": "4UEp5aFsegLN",
        "colab_type": "code",
        "outputId": "a23502b5-d8f0-46a2-974d-8cf6449116a6",
        "colab": {
          "base_uri": "https://localhost:8080/",
          "height": 52
        }
      },
      "source": [
        "import nltk\n",
        "nltk.download('stopwords')\n",
        "stop_words = set(stopwords.words('english'))"
      ],
      "execution_count": 31,
      "outputs": [
        {
          "output_type": "stream",
          "text": [
            "[nltk_data] Downloading package stopwords to /root/nltk_data...\n",
            "[nltk_data]   Unzipping corpora/stopwords.zip.\n"
          ],
          "name": "stdout"
        }
      ]
    },
    {
      "cell_type": "code",
      "metadata": {
        "id": "bib5EI84etJq",
        "colab_type": "code",
        "colab": {}
      },
      "source": [
        "def data_text_preprocess(total_text, ind, col):\n",
        "    # Remove int values from text data as that might not be imp\n",
        "    if type(total_text) is not int:\n",
        "        string = \"\"\n",
        "        # replacing all special char with space\n",
        "        total_text = re.sub('[^a-zA-Z0-9\\n]', ' ', str(total_text))\n",
        "        # replacing multiple spaces with single space\n",
        "        total_text = re.sub('\\s+',' ', str(total_text))\n",
        "        # bring whole text to same lower-case scale.\n",
        "        total_text = total_text.lower()\n",
        "        \n",
        "        for word in total_text.split():\n",
        "        # if the word is a not a stop word then retain that word from text\n",
        "            if not word in stop_words:\n",
        "                string += word + \" \"\n",
        "        \n",
        "        data_text[col][ind] = string"
      ],
      "execution_count": 0,
      "outputs": []
    },
    {
      "cell_type": "code",
      "metadata": {
        "id": "lt2BFI11go2Q",
        "colab_type": "code",
        "colab": {}
      },
      "source": [
        "for index, row in data_text.iterrows():\n",
        "    if type(row['TEXT']) is str:\n",
        "        data_text_preprocess(row['TEXT'], index, 'TEXT')"
      ],
      "execution_count": 0,
      "outputs": []
    },
    {
      "cell_type": "code",
      "metadata": {
        "id": "gB27w0YrjDk7",
        "colab_type": "code",
        "outputId": "be914021-303d-4838-9eb4-cd5c0f8f0a22",
        "colab": {
          "base_uri": "https://localhost:8080/",
          "height": 202
        }
      },
      "source": [
        "#merging both gene_variations and text data based on ID\n",
        "result = pd.merge(data_variants, data_text,on='ID', how='left')\n",
        "result.head()"
      ],
      "execution_count": 34,
      "outputs": [
        {
          "output_type": "execute_result",
          "data": {
            "text/html": [
              "<div>\n",
              "<style scoped>\n",
              "    .dataframe tbody tr th:only-of-type {\n",
              "        vertical-align: middle;\n",
              "    }\n",
              "\n",
              "    .dataframe tbody tr th {\n",
              "        vertical-align: top;\n",
              "    }\n",
              "\n",
              "    .dataframe thead th {\n",
              "        text-align: right;\n",
              "    }\n",
              "</style>\n",
              "<table border=\"1\" class=\"dataframe\">\n",
              "  <thead>\n",
              "    <tr style=\"text-align: right;\">\n",
              "      <th></th>\n",
              "      <th>ID</th>\n",
              "      <th>Gene</th>\n",
              "      <th>Variation</th>\n",
              "      <th>Class</th>\n",
              "      <th>TEXT</th>\n",
              "    </tr>\n",
              "  </thead>\n",
              "  <tbody>\n",
              "    <tr>\n",
              "      <th>0</th>\n",
              "      <td>0</td>\n",
              "      <td>FAM58A</td>\n",
              "      <td>Truncating Mutations</td>\n",
              "      <td>1</td>\n",
              "      <td>cyclin dependent kinases cdks regulate variety...</td>\n",
              "    </tr>\n",
              "    <tr>\n",
              "      <th>1</th>\n",
              "      <td>1</td>\n",
              "      <td>CBL</td>\n",
              "      <td>W802*</td>\n",
              "      <td>2</td>\n",
              "      <td>abstract background non small cell lung cancer...</td>\n",
              "    </tr>\n",
              "    <tr>\n",
              "      <th>2</th>\n",
              "      <td>2</td>\n",
              "      <td>CBL</td>\n",
              "      <td>Q249E</td>\n",
              "      <td>2</td>\n",
              "      <td>abstract background non small cell lung cancer...</td>\n",
              "    </tr>\n",
              "    <tr>\n",
              "      <th>3</th>\n",
              "      <td>3</td>\n",
              "      <td>CBL</td>\n",
              "      <td>N454D</td>\n",
              "      <td>3</td>\n",
              "      <td>recent evidence demonstrated acquired uniparen...</td>\n",
              "    </tr>\n",
              "    <tr>\n",
              "      <th>4</th>\n",
              "      <td>4</td>\n",
              "      <td>CBL</td>\n",
              "      <td>L399V</td>\n",
              "      <td>4</td>\n",
              "      <td>oncogenic mutations monomeric casitas b lineag...</td>\n",
              "    </tr>\n",
              "  </tbody>\n",
              "</table>\n",
              "</div>"
            ],
            "text/plain": [
              "   ID    Gene  ... Class                                               TEXT\n",
              "0   0  FAM58A  ...     1  cyclin dependent kinases cdks regulate variety...\n",
              "1   1     CBL  ...     2  abstract background non small cell lung cancer...\n",
              "2   2     CBL  ...     2  abstract background non small cell lung cancer...\n",
              "3   3     CBL  ...     3  recent evidence demonstrated acquired uniparen...\n",
              "4   4     CBL  ...     4  oncogenic mutations monomeric casitas b lineag...\n",
              "\n",
              "[5 rows x 5 columns]"
            ]
          },
          "metadata": {
            "tags": []
          },
          "execution_count": 34
        }
      ]
    },
    {
      "cell_type": "code",
      "metadata": {
        "id": "ANliTk_Kj3y6",
        "colab_type": "code",
        "outputId": "38412aa5-e6da-40ac-9807-164811e695fe",
        "colab": {
          "base_uri": "https://localhost:8080/",
          "height": 202
        }
      },
      "source": [
        "result[result.isnull().any(axis=1)]"
      ],
      "execution_count": 35,
      "outputs": [
        {
          "output_type": "execute_result",
          "data": {
            "text/html": [
              "<div>\n",
              "<style scoped>\n",
              "    .dataframe tbody tr th:only-of-type {\n",
              "        vertical-align: middle;\n",
              "    }\n",
              "\n",
              "    .dataframe tbody tr th {\n",
              "        vertical-align: top;\n",
              "    }\n",
              "\n",
              "    .dataframe thead th {\n",
              "        text-align: right;\n",
              "    }\n",
              "</style>\n",
              "<table border=\"1\" class=\"dataframe\">\n",
              "  <thead>\n",
              "    <tr style=\"text-align: right;\">\n",
              "      <th></th>\n",
              "      <th>ID</th>\n",
              "      <th>Gene</th>\n",
              "      <th>Variation</th>\n",
              "      <th>Class</th>\n",
              "      <th>TEXT</th>\n",
              "    </tr>\n",
              "  </thead>\n",
              "  <tbody>\n",
              "    <tr>\n",
              "      <th>1109</th>\n",
              "      <td>1109</td>\n",
              "      <td>FANCA</td>\n",
              "      <td>S1088F</td>\n",
              "      <td>1</td>\n",
              "      <td>NaN</td>\n",
              "    </tr>\n",
              "    <tr>\n",
              "      <th>1277</th>\n",
              "      <td>1277</td>\n",
              "      <td>ARID5B</td>\n",
              "      <td>Truncating Mutations</td>\n",
              "      <td>1</td>\n",
              "      <td>NaN</td>\n",
              "    </tr>\n",
              "    <tr>\n",
              "      <th>1407</th>\n",
              "      <td>1407</td>\n",
              "      <td>FGFR3</td>\n",
              "      <td>K508M</td>\n",
              "      <td>6</td>\n",
              "      <td>NaN</td>\n",
              "    </tr>\n",
              "    <tr>\n",
              "      <th>1639</th>\n",
              "      <td>1639</td>\n",
              "      <td>FLT1</td>\n",
              "      <td>Amplification</td>\n",
              "      <td>6</td>\n",
              "      <td>NaN</td>\n",
              "    </tr>\n",
              "    <tr>\n",
              "      <th>2755</th>\n",
              "      <td>2755</td>\n",
              "      <td>BRAF</td>\n",
              "      <td>G596C</td>\n",
              "      <td>7</td>\n",
              "      <td>NaN</td>\n",
              "    </tr>\n",
              "  </tbody>\n",
              "</table>\n",
              "</div>"
            ],
            "text/plain": [
              "        ID    Gene             Variation  Class TEXT\n",
              "1109  1109   FANCA                S1088F      1  NaN\n",
              "1277  1277  ARID5B  Truncating Mutations      1  NaN\n",
              "1407  1407   FGFR3                 K508M      6  NaN\n",
              "1639  1639    FLT1         Amplification      6  NaN\n",
              "2755  2755    BRAF                 G596C      7  NaN"
            ]
          },
          "metadata": {
            "tags": []
          },
          "execution_count": 35
        }
      ]
    },
    {
      "cell_type": "code",
      "metadata": {
        "id": "FWVhPtO0kQhD",
        "colab_type": "code",
        "colab": {}
      },
      "source": [
        "result.loc[result['TEXT'].isnull(),'TEXT'] = result['Gene'] +' '+result['Variation']"
      ],
      "execution_count": 0,
      "outputs": []
    },
    {
      "cell_type": "code",
      "metadata": {
        "id": "pwlsbilTkXv-",
        "colab_type": "code",
        "colab": {}
      },
      "source": [
        "y_true = result['Class'].values\n",
        "result.Gene      = result.Gene.str.replace('\\s+', '_')\n",
        "result.Variation = result.Variation.str.replace('\\s+', '_')"
      ],
      "execution_count": 0,
      "outputs": []
    },
    {
      "cell_type": "code",
      "metadata": {
        "id": "HjtV0XWCmvqH",
        "colab_type": "code",
        "colab": {}
      },
      "source": [
        "# Splitting the data into train and test set \n",
        "X_train, test_df, y_train, y_test = train_test_split(result, y_true, stratify=y_true, test_size=0.2)\n",
        "# split the train data now into train validation and cross validation\n",
        "train_df, cv_df, y_train, y_cv = train_test_split(X_train, y_train, stratify=y_train, test_size=0.2)"
      ],
      "execution_count": 0,
      "outputs": []
    },
    {
      "cell_type": "code",
      "metadata": {
        "id": "FEzUAzn_pCih",
        "colab_type": "code",
        "outputId": "31b5a8ba-a866-4da7-bd92-e7dc8fd0cf74",
        "colab": {
          "base_uri": "https://localhost:8080/",
          "height": 69
        }
      },
      "source": [
        "print('Number of data points in train data:', train_df.shape[0])\n",
        "print('Number of data points in test data:', test_df.shape[0])\n",
        "print('Number of data points in cross validation data:', cv_df.shape[0])"
      ],
      "execution_count": 39,
      "outputs": [
        {
          "output_type": "stream",
          "text": [
            "Number of data points in train data: 2124\n",
            "Number of data points in test data: 665\n",
            "Number of data points in cross validation data: 532\n"
          ],
          "name": "stdout"
        }
      ]
    },
    {
      "cell_type": "code",
      "metadata": {
        "id": "q8GcclPNuPxg",
        "colab_type": "code",
        "colab": {}
      },
      "source": [
        "train_class_distribution = train_df['Class'].value_counts().sort_index()\n",
        "test_class_distribution = test_df['Class'].value_counts().sort_index()\n",
        "cv_class_distribution = cv_df['Class'].value_counts().sort_index()"
      ],
      "execution_count": 0,
      "outputs": []
    },
    {
      "cell_type": "code",
      "metadata": {
        "id": "LDjF0brvwIcf",
        "colab_type": "code",
        "outputId": "9d6c4320-e38a-416f-d151-ec0303fd4342",
        "colab": {
          "base_uri": "https://localhost:8080/",
          "height": 35
        }
      },
      "source": [
        "train_class_distribution.values"
      ],
      "execution_count": 41,
      "outputs": [
        {
          "output_type": "execute_result",
          "data": {
            "text/plain": [
              "array([363, 289,  57, 439, 155, 176, 609,  12,  24])"
            ]
          },
          "metadata": {
            "tags": []
          },
          "execution_count": 41
        }
      ]
    },
    {
      "cell_type": "code",
      "metadata": {
        "id": "iltxXCY7xAF1",
        "colab_type": "code",
        "outputId": "6e52fcb4-2cec-4e24-b0f0-2097d8b831e3",
        "colab": {
          "base_uri": "https://localhost:8080/",
          "height": 295
        }
      },
      "source": [
        "my_colors = 'rgbkymc'\n",
        "plt.bar(train_class_distribution.index,train_class_distribution.values,color=my_colors)\n",
        "plt.xlabel('Class')\n",
        "plt.ylabel(' Number of Data points per Class')\n",
        "plt.title('Distribution of yi in train data')\n",
        "plt.grid()\n",
        "plt.show()"
      ],
      "execution_count": 42,
      "outputs": [
        {
          "output_type": "display_data",
          "data": {
            "image/png": "[encoded data removed]",
            "text/plain": [
              "<Figure size 432x288 with 1 Axes>"
            ]
          },
          "metadata": {
            "tags": []
          }
        }
      ]
    },
    {
      "cell_type": "code",
      "metadata": {
        "id": "-i-a2KvsQ_yG",
        "colab_type": "code",
        "colab": {
          "base_uri": "https://localhost:8080/",
          "height": 173
        },
        "outputId": "7508e1fc-8b21-42da-aa8e-4f849f9dc2b6"
      },
      "source": [
        "sorted_yi = np.argsort(-train_class_distribution.values)\n",
        "for i in sorted_yi:\n",
        "    print('Number of data points in class', i+1, ':',train_class_distribution.values[i], '(', np.round((train_class_distribution.values[i]/train_df.shape[0]*100), 3), '%)')"
      ],
      "execution_count": 43,
      "outputs": [
        {
          "output_type": "stream",
          "text": [
            "Number of data points in class 7 : 609 ( 28.672 %)\n",
            "Number of data points in class 4 : 439 ( 20.669 %)\n",
            "Number of data points in class 1 : 363 ( 17.09 %)\n",
            "Number of data points in class 2 : 289 ( 13.606 %)\n",
            "Number of data points in class 6 : 176 ( 8.286 %)\n",
            "Number of data points in class 5 : 155 ( 7.298 %)\n",
            "Number of data points in class 3 : 57 ( 2.684 %)\n",
            "Number of data points in class 9 : 24 ( 1.13 %)\n",
            "Number of data points in class 8 : 12 ( 0.565 %)\n"
          ],
          "name": "stdout"
        }
      ]
    },
    {
      "cell_type": "code",
      "metadata": {
        "id": "p-minJCzRChi",
        "colab_type": "code",
        "colab": {
          "base_uri": "https://localhost:8080/",
          "height": 295
        },
        "outputId": "c2b37ad7-90a6-45bc-c11a-ff24ea42cbf1"
      },
      "source": [
        "my_colors = 'rgbkymc'\n",
        "plt.bar(test_class_distribution.index,test_class_distribution.values,color=my_colors)\n",
        "plt.xlabel('Class')\n",
        "plt.ylabel('Number of Data points per Class')\n",
        "plt.title('Distribution of yi in test data')\n",
        "plt.grid()\n",
        "plt.show()"
      ],
      "execution_count": 44,
      "outputs": [
        {
          "output_type": "display_data",
          "data": {
            "image/png": "[encoded data removed]",
            "text/plain": [
              "<Figure size 432x288 with 1 Axes>"
            ]
          },
          "metadata": {
            "tags": []
          }
        }
      ]
    },
    {
      "cell_type": "code",
      "metadata": {
        "id": "2ZmGYGAyRUMm",
        "colab_type": "code",
        "colab": {
          "base_uri": "https://localhost:8080/",
          "height": 173
        },
        "outputId": "4a2423b8-a5f1-4639-f495-aab51a4c20ca"
      },
      "source": [
        "sorted_yi = np.argsort(-test_class_distribution.values)\n",
        "for i in sorted_yi:\n",
        "    print('Number of data points in class', i+1, ':',test_class_distribution.values[i], '(', np.round((test_class_distribution.values[i]/test_df.shape[0]*100), 3), '%)')"
      ],
      "execution_count": 45,
      "outputs": [
        {
          "output_type": "stream",
          "text": [
            "Number of data points in class 7 : 191 ( 28.722 %)\n",
            "Number of data points in class 4 : 137 ( 20.602 %)\n",
            "Number of data points in class 1 : 114 ( 17.143 %)\n",
            "Number of data points in class 2 : 91 ( 13.684 %)\n",
            "Number of data points in class 6 : 55 ( 8.271 %)\n",
            "Number of data points in class 5 : 48 ( 7.218 %)\n",
            "Number of data points in class 3 : 18 ( 2.707 %)\n",
            "Number of data points in class 9 : 7 ( 1.053 %)\n",
            "Number of data points in class 8 : 4 ( 0.602 %)\n"
          ],
          "name": "stdout"
        }
      ]
    },
    {
      "cell_type": "code",
      "metadata": {
        "id": "mwMZ5JWeRYqB",
        "colab_type": "code",
        "colab": {
          "base_uri": "https://localhost:8080/",
          "height": 295
        },
        "outputId": "4832ec66-b992-400e-d105-9f476a30bee0"
      },
      "source": [
        "my_colors = 'rgbkymc'\n",
        "plt.bar(cv_class_distribution.index,cv_class_distribution.values,color=my_colors)\n",
        "plt.xlabel('Class')\n",
        "plt.ylabel('Data points per Class')\n",
        "plt.title('Distribution of yi in cross validation data')\n",
        "plt.grid()\n",
        "plt.show()"
      ],
      "execution_count": 46,
      "outputs": [
        {
          "output_type": "display_data",
          "data": {
            "image/png": "[encoded data removed]",
            "text/plain": [
              "<Figure size 432x288 with 1 Axes>"
            ]
          },
          "metadata": {
            "tags": []
          }
        }
      ]
    },
    {
      "cell_type": "code",
      "metadata": {
        "id": "LVwUI9OJRnyP",
        "colab_type": "code",
        "colab": {
          "base_uri": "https://localhost:8080/",
          "height": 173
        },
        "outputId": "4ddf3fdc-7a34-45ef-a1a1-417a822bf4ac"
      },
      "source": [
        "sorted_yi = np.argsort(-train_class_distribution.values)\n",
        "for i in sorted_yi:\n",
        "    print('Number of data points in class', i+1, ':',cv_class_distribution.values[i], '(', np.round((cv_class_distribution.values[i]/cv_df.shape[0]*100), 3), '%)')"
      ],
      "execution_count": 47,
      "outputs": [
        {
          "output_type": "stream",
          "text": [
            "Number of data points in class 7 : 153 ( 28.759 %)\n",
            "Number of data points in class 4 : 110 ( 20.677 %)\n",
            "Number of data points in class 1 : 91 ( 17.105 %)\n",
            "Number of data points in class 2 : 72 ( 13.534 %)\n",
            "Number of data points in class 6 : 44 ( 8.271 %)\n",
            "Number of data points in class 5 : 39 ( 7.331 %)\n",
            "Number of data points in class 3 : 14 ( 2.632 %)\n",
            "Number of data points in class 9 : 6 ( 1.128 %)\n",
            "Number of data points in class 8 : 3 ( 0.564 %)\n"
          ],
          "name": "stdout"
        }
      ]
    },
    {
      "cell_type": "code",
      "metadata": {
        "id": "Kndaxw1eSNdz",
        "colab_type": "code",
        "colab": {}
      },
      "source": [
        "test_data_len = test_df.shape[0]\n",
        "cv_data_len = cv_df.shape[0]"
      ],
      "execution_count": 0,
      "outputs": []
    },
    {
      "cell_type": "code",
      "metadata": {
        "id": "tHpDZRHpSjgi",
        "colab_type": "code",
        "colab": {
          "base_uri": "https://localhost:8080/",
          "height": 35
        },
        "outputId": "304fe1e9-dc10-40de-ce68-a79c686a2ce7"
      },
      "source": [
        "# we create a output array that has exactly same size as the CV data\n",
        "cv_predicted_y = np.zeros((cv_data_len,9))\n",
        "for i in range(cv_data_len):\n",
        "    rand_probs = np.random.rand(1,9)\n",
        "    #print(rand_probs)\n",
        "    cv_predicted_y[i] = ((rand_probs/sum(sum(rand_probs)))[0])\n",
        "print(\"Log loss on Cross Validation Data using Random Model\",log_loss(y_cv,cv_predicted_y, eps=1e-15,normalize=True))"
      ],
      "execution_count": 49,
      "outputs": [
        {
          "output_type": "stream",
          "text": [
            "Log loss on Cross Validation Data using Random Model 2.4690760663641567\n"
          ],
          "name": "stdout"
        }
      ]
    },
    {
      "cell_type": "code",
      "metadata": {
        "id": "nEgNrHymVy22",
        "colab_type": "code",
        "colab": {
          "base_uri": "https://localhost:8080/",
          "height": 35
        },
        "outputId": "f4d1716c-4a8c-43ac-e5d6-3c37b1d8e690"
      },
      "source": [
        "# Test-Set error.\n",
        "#we create a output array that has exactly same as the test data\n",
        "test_predicted_y = np.zeros((test_data_len,9))\n",
        "for i in range(test_data_len):\n",
        "    rand_probs = np.random.rand(1,9)\n",
        "    test_predicted_y[i] = ((rand_probs/sum(sum(rand_probs)))[0])\n",
        "print(\"Log loss on Test Data using Random Model\",log_loss(y_test,test_predicted_y, eps=1e-15))"
      ],
      "execution_count": 50,
      "outputs": [
        {
          "output_type": "stream",
          "text": [
            "Log loss on Test Data using Random Model 2.4988103228142395\n"
          ],
          "name": "stdout"
        }
      ]
    },
    {
      "cell_type": "code",
      "metadata": {
        "id": "CtcK12GGWGZ9",
        "colab_type": "code",
        "colab": {}
      },
      "source": [
        "# Lets get the index of max probablity\n",
        "predicted_y =np.argmax(test_predicted_y, axis=1)"
      ],
      "execution_count": 0,
      "outputs": []
    },
    {
      "cell_type": "code",
      "metadata": {
        "id": "vMfYa_UoWMZ2",
        "colab_type": "code",
        "colab": {
          "base_uri": "https://localhost:8080/",
          "height": 35
        },
        "outputId": "668658de-ac1e-400f-d0c2-7019034f6b6d"
      },
      "source": [
        "len(test_predicted_y)"
      ],
      "execution_count": 52,
      "outputs": [
        {
          "output_type": "execute_result",
          "data": {
            "text/plain": [
              "665"
            ]
          },
          "metadata": {
            "tags": []
          },
          "execution_count": 52
        }
      ]
    },
    {
      "cell_type": "code",
      "metadata": {
        "id": "EkePfp4BWi4v",
        "colab_type": "code",
        "colab": {}
      },
      "source": [
        "C = confusion_matrix(y_test, predicted_y)"
      ],
      "execution_count": 0,
      "outputs": []
    },
    {
      "cell_type": "code",
      "metadata": {
        "id": "e8suA6LNWvMl",
        "colab_type": "code",
        "colab": {
          "base_uri": "https://localhost:8080/",
          "height": 462
        },
        "outputId": "ea1125b6-d4b6-49b8-93d7-1f4bfa9a4bd9"
      },
      "source": [
        "labels = [1,2,3,4,5,6,7,8,9]\n",
        "plt.figure(figsize=(20,7))\n",
        "sns.heatmap(C,annot=True, cmap=\"YlGnBu\", fmt=\".3f\",linewidths=8, xticklabels=labels, yticklabels=labels)\n",
        "plt.xlabel('Predicted Class')\n",
        "plt.ylabel('Original Class')\n",
        "plt.show()"
      ],
      "execution_count": 54,
      "outputs": [
        {
          "output_type": "display_data",
          "data": {
            "image/png": "[encoded data removed]",
            "text/plain": [
              "<Figure size 1440x504 with 2 Axes>"
            ]
          },
          "metadata": {
            "tags": []
          }
        }
      ]
    },
    {
      "cell_type": "code",
      "metadata": {
        "id": "SVk9K7fZXVmB",
        "colab_type": "code",
        "colab": {}
      },
      "source": [
        "B =(C/C.sum(axis=0))"
      ],
      "execution_count": 0,
      "outputs": []
    },
    {
      "cell_type": "code",
      "metadata": {
        "id": "s4Tj2rxbXfPJ",
        "colab_type": "code",
        "colab": {
          "base_uri": "https://localhost:8080/",
          "height": 462
        },
        "outputId": "281ba76c-61f7-40eb-b95c-ebef10ee8ade"
      },
      "source": [
        "plt.figure(figsize=(20,7))\n",
        "sns.heatmap(B, annot=True, cmap=\"YlGnBu\", fmt=\".3f\",linewidths=7, xticklabels=labels, yticklabels=labels)\n",
        "plt.xlabel('Predicted Class')\n",
        "plt.ylabel('Original Class')\n",
        "plt.show()"
      ],
      "execution_count": 56,
      "outputs": [
        {
          "output_type": "display_data",
          "data": {
            "image/png": "[encoded data removed]",
            "text/plain": [
              "<Figure size 1440x504 with 2 Axes>"
            ]
          },
          "metadata": {
            "tags": []
          }
        }
      ]
    },
    {
      "cell_type": "code",
      "metadata": {
        "id": "VaQMWNndZb1H",
        "colab_type": "code",
        "colab": {
          "base_uri": "https://localhost:8080/",
          "height": 466
        },
        "outputId": "f18af991-2f3f-4053-890b-112c0c3a6474"
      },
      "source": [
        "A =(((C.T)/(C.sum(axis=1))).T)\n",
        "plt.figure(figsize=(20,7))\n",
        "sns.heatmap(A,linewidths=8, annot=True, cmap=\"YlGnBu\", fmt=\".3f\", xticklabels=labels, yticklabels=labels)\n",
        "plt.xlabel('Predicted Class')\n",
        "plt.ylabel('Original Class')\n",
        "plt.show()"
      ],
      "execution_count": 57,
      "outputs": [
        {
          "output_type": "display_data",
          "data": {
            "image/png": "[encoded data removed]",
            "text/plain": [
              "<Figure size 1440x504 with 2 Axes>"
            ]
          },
          "metadata": {
            "tags": []
          }
        }
      ]
    },
    {
      "cell_type": "code",
      "metadata": {
        "id": "i8UGs6MzZolE",
        "colab_type": "code",
        "colab": {
          "base_uri": "https://localhost:8080/",
          "height": 225
        },
        "outputId": "90783cea-8d18-4224-c2a8-12dc81d4e337"
      },
      "source": [
        "unique_genes = train_df['Gene'].value_counts()\n",
        "print('Number of Unique Genes :', unique_genes.shape[0])\n",
        "# the top 10 genes that occured most\n",
        "print(unique_genes.head(10))"
      ],
      "execution_count": 58,
      "outputs": [
        {
          "output_type": "stream",
          "text": [
            "Number of Unique Genes : 234\n",
            "BRCA1     169\n",
            "TP53      106\n",
            "PTEN       91\n",
            "EGFR       87\n",
            "BRCA2      85\n",
            "KIT        70\n",
            "BRAF       62\n",
            "PDGFRA     45\n",
            "ERBB2      44\n",
            "ALK        43\n",
            "Name: Gene, dtype: int64\n"
          ],
          "name": "stdout"
        }
      ]
    },
    {
      "cell_type": "code",
      "metadata": {
        "id": "oEgBhvZz1E3T",
        "colab_type": "code",
        "colab": {
          "base_uri": "https://localhost:8080/",
          "height": 265
        },
        "outputId": "75ee8a18-362a-4a05-8b10-5dd9ed658f4b"
      },
      "source": [
        "s = sum(unique_genes.values);\n",
        "h = unique_genes.values/s;\n",
        "c = np.cumsum(h)\n",
        "plt.plot(c,label='Cumulative distribution of Genes')\n",
        "plt.grid()\n",
        "plt.legend()\n",
        "plt.show()"
      ],
      "execution_count": 59,
      "outputs": [
        {
          "output_type": "display_data",
          "data": {
            "image/png": "[encoded data removed]",
            "text/plain": [
              "<Figure size 432x288 with 1 Axes>"
            ]
          },
          "metadata": {
            "tags": []
          }
        }
      ]
    },
    {
      "cell_type": "code",
      "metadata": {
        "id": "w1LJjPfo1ThX",
        "colab_type": "code",
        "colab": {}
      },
      "source": [
        "# one-hot encoding of Gene feature.\n",
        "gene_vectorizer = CountVectorizer()\n",
        "train_gene_feature_onehotCoding = gene_vectorizer.fit_transform(train_df['Gene'])\n",
        "test_gene_feature_onehotCoding = gene_vectorizer.transform(test_df['Gene'])\n",
        "cv_gene_feature_onehotCoding = gene_vectorizer.transform(cv_df['Gene'])"
      ],
      "execution_count": 0,
      "outputs": []
    },
    {
      "cell_type": "code",
      "metadata": {
        "id": "Bb7Rjq5g4nxp",
        "colab_type": "code",
        "colab": {
          "base_uri": "https://localhost:8080/",
          "height": 35
        },
        "outputId": "8128d982-f12e-4fa4-8760-eb0d38f6b204"
      },
      "source": [
        "len(gene_vectorizer.get_feature_names())"
      ],
      "execution_count": 65,
      "outputs": [
        {
          "output_type": "execute_result",
          "data": {
            "text/plain": [
              "233"
            ]
          },
          "metadata": {
            "tags": []
          },
          "execution_count": 65
        }
      ]
    },
    {
      "cell_type": "code",
      "metadata": {
        "id": "p8a7Y7f15iOu",
        "colab_type": "code",
        "colab": {
          "base_uri": "https://localhost:8080/",
          "height": 225
        },
        "outputId": "7f3da7f6-b958-42f6-ffff-cac49bb96a79"
      },
      "source": [
        "print(train_df['Gene'].value_counts())"
      ],
      "execution_count": 66,
      "outputs": [
        {
          "output_type": "stream",
          "text": [
            "BRCA1      169\n",
            "TP53       106\n",
            "PTEN        91\n",
            "EGFR        87\n",
            "BRCA2       85\n",
            "          ... \n",
            "KLF4         1\n",
            "BTK          1\n",
            "EPCAM        1\n",
            "JUN          1\n",
            "WHSC1L1      1\n",
            "Name: Gene, Length: 234, dtype: int64\n"
          ],
          "name": "stdout"
        }
      ]
    },
    {
      "cell_type": "code",
      "metadata": {
        "id": "NimD9_Iu5oWy",
        "colab_type": "code",
        "colab": {
          "base_uri": "https://localhost:8080/",
          "height": 225
        },
        "outputId": "78fd2de2-31bf-43eb-c5f4-9e23992bb91d"
      },
      "source": [
        " print(train_df['Variation'].value_counts())"
      ],
      "execution_count": 67,
      "outputs": [
        {
          "output_type": "stream",
          "text": [
            "Truncating_Mutations    51\n",
            "Deletion                46\n",
            "Amplification           45\n",
            "Fusions                 23\n",
            "Overexpression           4\n",
            "                        ..\n",
            "Y599F                    1\n",
            "P525L                    1\n",
            "S2215Y                   1\n",
            "D194Y                    1\n",
            "S247Y                    1\n",
            "Name: Variation, Length: 1934, dtype: int64\n"
          ],
          "name": "stdout"
        }
      ]
    },
    {
      "cell_type": "code",
      "metadata": {
        "id": "z6lmUScU54v4",
        "colab_type": "code",
        "colab": {
          "base_uri": "https://localhost:8080/",
          "height": 745
        },
        "outputId": "6191c29f-e749-4735-a82b-afbee05a78f3"
      },
      "source": [
        "print(train_df.loc[(train_df['Class']==1) & (train_df['Gene']=='BRCA1')])"
      ],
      "execution_count": 68,
      "outputs": [
        {
          "output_type": "stream",
          "text": [
            "        ID   Gene  ... Class                                               TEXT\n",
            "2600  2600  BRCA1  ...     1  abstract germline mutations inactivate tumor s...\n",
            "2578  2578  BRCA1  ...     1  genetic screening breast ovarian cancer suscep...\n",
            "2421  2421  BRCA1  ...     1  brca1 brca2 mutations estimated responsible gr...\n",
            "2569  2569  BRCA1  ...     1  abstract brca1 gene individuals risk breast ov...\n",
            "2522  2522  BRCA1  ...     1  genetic screening breast ovarian cancer suscep...\n",
            "2567  2567  BRCA1  ...     1  abstract brca1 gene individuals risk breast ov...\n",
            "2557  2557  BRCA1  ...     1  abstract brca1 gene individuals risk breast ov...\n",
            "2650  2650  BRCA1  ...     1  abstract mutations brca1 account 45 families h...\n",
            "2583  2583  BRCA1  ...     1  abstract brca1 gene individuals risk breast ov...\n",
            "2619  2619  BRCA1  ...     1  abstract germline mutations inactivate tumor s...\n",
            "2436  2436  BRCA1  ...     1  genetic screening breast ovarian cancer suscep...\n",
            "2474  2474  BRCA1  ...     1  germline mutation analysis brca1 gene demonstr...\n",
            "2586  2586  BRCA1  ...     1  brca1 tumour suppressor pleiotropic actions ge...\n",
            "2525  2525  BRCA1  ...     1  abstract brca1 gene individuals risk breast ov...\n",
            "2542  2542  BRCA1  ...     1  abstract brca1 gene individuals risk breast ov...\n",
            "2592  2592  BRCA1  ...     1  genetic screening breast ovarian cancer suscep...\n",
            "2524  2524  BRCA1  ...     1  genetic screening breast ovarian cancer suscep...\n",
            "2501  2501  BRCA1  ...     1  abstract brca1 gene individuals risk breast ov...\n",
            "2677  2677  BRCA1  ...     1  abstract brca1 gene individuals risk breast ov...\n",
            "2581  2581  BRCA1  ...     1  mutations brca1 brca2 account majority heredit...\n",
            "2652  2652  BRCA1  ...     1  abstract germline mutations inactivate tumor s...\n",
            "2653  2653  BRCA1  ...     1  abstract brca1 gene individuals risk breast ov...\n",
            "2475  2475  BRCA1  ...     1  abstract brca1 gene individuals risk breast ov...\n",
            "2424  2424  BRCA1  ...     1  abstract brca1 gene individuals risk breast ov...\n",
            "2659  2659  BRCA1  ...     1  genetic screening breast ovarian cancer suscep...\n",
            "2614  2614  BRCA1  ...     1  large number missense mutations identified wit...\n",
            "2455  2455  BRCA1  ...     1  abstract brca1 gene individuals risk breast ov...\n",
            "2491  2491  BRCA1  ...     1  abstract brca1 gene individuals risk breast ov...\n",
            "2598  2598  BRCA1  ...     1  abstract brca1 gene individuals risk breast ov...\n",
            "2470  2470  BRCA1  ...     1  genetic screening breast ovarian cancer suscep...\n",
            "2596  2596  BRCA1  ...     1  abstract brca1 gene individuals risk breast ov...\n",
            "2463  2463  BRCA1  ...     1  abstract germline mutations inactivate tumor s...\n",
            "2506  2506  BRCA1  ...     1  abstract brca1 gene individuals risk breast ov...\n",
            "2443  2443  BRCA1  ...     1  abstract brca1 gene individuals risk breast ov...\n",
            "2478  2478  BRCA1  ...     1  abstract brca1 gene individuals risk breast ov...\n",
            "2639  2639  BRCA1  ...     1  abstract germline mutations inactivate tumor s...\n",
            "2420  2420  BRCA1  ...     1  genetic screening breast ovarian cancer suscep...\n",
            "2439  2439  BRCA1  ...     1  brca1 brca2 mutations estimated responsible gr...\n",
            "2552  2552  BRCA1  ...     1  genetic screening breast ovarian cancer suscep...\n",
            "\n",
            "[39 rows x 5 columns]\n"
          ],
          "name": "stdout"
        }
      ]
    },
    {
      "cell_type": "code",
      "metadata": {
        "id": "4mJoAfaS5Tl9",
        "colab_type": "code",
        "colab": {}
      },
      "source": [
        "# code for response coding with Laplace smoothing.\n",
        "# alpha : used for laplace smoothing\n",
        "# feature: ['gene', 'variation']\n",
        "# df: ['train_df', 'test_df', 'cv_df']\n",
        "# algorithm\n",
        "# ----------\n",
        "# Consider all unique values and the number of occurances of given feature in train data dataframe\n",
        "# build a vector (1*9) , the first element = (number of times it occured in class1 + 10*alpha / number of time it occurred in total data+90*alpha)\n",
        "# gv_dict is like a look up table, for every gene it store a (1*9) representation of it\n",
        "# for a value of feature in df:\n",
        "# if it is in train data:\n",
        "# we add the vector that was stored in 'gv_dict' look up table to 'gv_fea'\n",
        "# if it is not there is train:\n",
        "# we add [1/9, 1/9, 1/9, 1/9,1/9, 1/9, 1/9, 1/9, 1/9] to 'gv_fea'\n",
        "# return 'gv_fea'\n",
        "# ----------------------\n",
        "\n",
        "# get_gv_fea_dict: Get Gene varaition Feature Dict\n",
        "def get_gv_fea_dict(alpha, feature, df):\n",
        "    # value_count: it contains a dict like\n",
        "    # print(train_df['Gene'].value_counts())\n",
        "    # output:\n",
        "    #        {BRCA1      174\n",
        "    #         TP53       106\n",
        "    #         EGFR        86\n",
        "    #         BRCA2       75\n",
        "    #         PTEN        69\n",
        "    #         KIT         61\n",
        "    #         BRAF        60\n",
        "    #         ERBB2       47\n",
        "    #         PDGFRA      46\n",
        "    #         ...}\n",
        "    # print(train_df['Variation'].value_counts())\n",
        "    # output:\n",
        "    # {\n",
        "    # Truncating_Mutations                     63\n",
        "    # Deletion                                 43\n",
        "    # Amplification                            43\n",
        "    # Fusions                                  22\n",
        "    # Overexpression                            3\n",
        "    # E17K                                      3\n",
        "    # Q61L                                      3\n",
        "    # S222D                                     2\n",
        "    # P130S                                     2\n",
        "    # ...\n",
        "    # }\n",
        "    value_count = train_df[feature].value_counts()\n",
        "    \n",
        "    # gv_dict : Gene Variation Dict, which contains the probability array for each gene/variation\n",
        "    gv_dict = dict()\n",
        "    \n",
        "    # denominator will contain the number of time that particular feature occured in whole data\n",
        "    for i, denominator in value_count.items():\n",
        "        # vec will contain (p(yi==1/Gi) probability of gene/variation belongs to perticular class\n",
        "        # vec is 9 diamensional vector\n",
        "        vec = []\n",
        "        for k in range(1,10):\n",
        "            # print(train_df.loc[(train_df['Class']==1) & (train_df['Gene']=='BRCA1')])\n",
        "            #         ID   Gene             Variation  Class  \n",
        "            # 2470  2470  BRCA1                S1715C      1   \n",
        "            # 2486  2486  BRCA1                S1841R      1   \n",
        "            # 2614  2614  BRCA1                   M1R      1   \n",
        "            # 2432  2432  BRCA1                L1657P      1   \n",
        "            # 2567  2567  BRCA1                T1685A      1   \n",
        "            # 2583  2583  BRCA1                E1660G      1   \n",
        "            # 2634  2634  BRCA1                W1718L      1   \n",
        "            # cls_cnt.shape[0] will return the number of rows\n",
        "\n",
        "            cls_cnt = train_df.loc[(train_df['Class']==k) & (train_df[feature]==i)]\n",
        "            \n",
        "            # cls_cnt.shape[0](numerator) will contain the number of time that particular feature occured in whole data\n",
        "            vec.append((cls_cnt.shape[0] + alpha*10)/ (denominator + 90*alpha))\n",
        "\n",
        "        # we are adding the gene/variation to the dict as key and vec as value\n",
        "        gv_dict[i]=vec\n",
        "    return gv_dict\n",
        "\n",
        "# Get Gene variation feature\n",
        "def get_gv_feature(alpha, feature, df):\n",
        "    # print(gv_dict)\n",
        "    #     {'BRCA1': [0.20075757575757575, 0.03787878787878788, 0.068181818181818177, 0.13636363636363635, 0.25, 0.19318181818181818, 0.03787878787878788, 0.03787878787878788, 0.03787878787878788], \n",
        "    #      'TP53': [0.32142857142857145, 0.061224489795918366, 0.061224489795918366, 0.27040816326530615, 0.061224489795918366, 0.066326530612244902, 0.051020408163265307, 0.051020408163265307, 0.056122448979591837], \n",
        "    #      'EGFR': [0.056818181818181816, 0.21590909090909091, 0.0625, 0.068181818181818177, 0.068181818181818177, 0.0625, 0.34659090909090912, 0.0625, 0.056818181818181816], \n",
        "    #      'BRCA2': [0.13333333333333333, 0.060606060606060608, 0.060606060606060608, 0.078787878787878782, 0.1393939393939394, 0.34545454545454546, 0.060606060606060608, 0.060606060606060608, 0.060606060606060608], \n",
        "    #      'PTEN': [0.069182389937106917, 0.062893081761006289, 0.069182389937106917, 0.46540880503144655, 0.075471698113207544, 0.062893081761006289, 0.069182389937106917, 0.062893081761006289, 0.062893081761006289], \n",
        "    #      'KIT': [0.066225165562913912, 0.25165562913907286, 0.072847682119205295, 0.072847682119205295, 0.066225165562913912, 0.066225165562913912, 0.27152317880794702, 0.066225165562913912, 0.066225165562913912], \n",
        "    #      'BRAF': [0.066666666666666666, 0.17999999999999999, 0.073333333333333334, 0.073333333333333334, 0.093333333333333338, 0.080000000000000002, 0.29999999999999999, 0.066666666666666666, 0.066666666666666666],\n",
        "    #      ...\n",
        "    #     }\n",
        "    gv_dict = get_gv_fea_dict(alpha, feature, df)\n",
        "    # value_count is similar in get_gv_fea_dict\n",
        "    value_count = train_df[feature].value_counts()\n",
        "    \n",
        "    # gv_fea: Gene_variation feature, it will contain the feature for each feature value in the data\n",
        "    gv_fea = []\n",
        "    # for every feature values in the given data frame we will check if it is there in the train data then we will add the feature to gv_fea\n",
        "    # if not we will add [1/9,1/9,1/9,1/9,1/9,1/9,1/9,1/9,1/9] to gv_fea\n",
        "    for index, row in df.iterrows():\n",
        "        if row[feature] in dict(value_count).keys():\n",
        "            gv_fea.append(gv_dict[row[feature]])\n",
        "        else:\n",
        "            gv_fea.append([1/9,1/9,1/9,1/9,1/9,1/9,1/9,1/9,1/9])\n",
        "    return gv_fea"
      ],
      "execution_count": 0,
      "outputs": []
    },
    {
      "cell_type": "code",
      "metadata": {
        "id": "ktnKkyUd7qCW",
        "colab_type": "code",
        "colab": {}
      },
      "source": [
        "#response-coding of the Gene feature\n",
        "# alpha is used for laplace smoothing\n",
        "alpha = 1\n",
        "# train gene feature\n",
        "train_gene_feature_responseCoding = np.array(get_gv_feature(alpha, \"Gene\", train_df))\n",
        "# test gene feature\n",
        "test_gene_feature_responseCoding = np.array(get_gv_feature(alpha, \"Gene\", test_df))\n",
        "# cross validation gene feature\n",
        "cv_gene_feature_responseCoding = np.array(get_gv_feature(alpha, \"Gene\", cv_df))"
      ],
      "execution_count": 0,
      "outputs": []
    },
    {
      "cell_type": "code",
      "metadata": {
        "id": "pXFEBuE-71mw",
        "colab_type": "code",
        "colab": {
          "base_uri": "https://localhost:8080/",
          "height": 35
        },
        "outputId": "5a6dcb32-3ed2-436e-b7c0-9d65d7f2d520"
      },
      "source": [
        "train_gene_feature_responseCoding.shape"
      ],
      "execution_count": 91,
      "outputs": [
        {
          "output_type": "execute_result",
          "data": {
            "text/plain": [
              "(2124, 9)"
            ]
          },
          "metadata": {
            "tags": []
          },
          "execution_count": 91
        }
      ]
    },
    {
      "cell_type": "code",
      "metadata": {
        "id": "llB3ObcG9HDK",
        "colab_type": "code",
        "colab": {}
      },
      "source": [
        "# We need a hyperparemeter for SGD classifier.\n",
        "alpha = [10 ** x for x in range(-5, 1)]"
      ],
      "execution_count": 0,
      "outputs": []
    },
    {
      "cell_type": "code",
      "metadata": {
        "id": "r41KJ8ZI9QqL",
        "colab_type": "code",
        "colab": {
          "base_uri": "https://localhost:8080/",
          "height": 121
        },
        "outputId": "81274722-1b6e-478b-c1d3-545054d893bc"
      },
      "source": [
        "# We will be using SGD classifier\n",
        "cv_log_error_array=[]\n",
        "for i in alpha:\n",
        "    clf = SGDClassifier(alpha=i, penalty='l2', loss='log', random_state=42)\n",
        "    clf.fit(train_gene_feature_onehotCoding, y_train)\n",
        "    sig_clf = CalibratedClassifierCV(clf, method=\"sigmoid\")\n",
        "    sig_clf.fit(train_gene_feature_onehotCoding, y_train)\n",
        "    predict_y = sig_clf.predict_proba(cv_gene_feature_onehotCoding)\n",
        "    cv_log_error_array.append(log_loss(y_cv, predict_y, labels=clf.classes_, eps=1e-15))\n",
        "    print('For values of alpha = ', i, \"The log loss is:\",log_loss(y_cv, predict_y, labels=clf.classes_, eps=1e-15))\n"
      ],
      "execution_count": 93,
      "outputs": [
        {
          "output_type": "stream",
          "text": [
            "For values of alpha =  1e-05 The log loss is: 1.1922096527898827\n",
            "For values of alpha =  0.0001 The log loss is: 1.1574550360357017\n",
            "For values of alpha =  0.001 The log loss is: 1.1896628846781885\n",
            "For values of alpha =  0.01 The log loss is: 1.2952531846436777\n",
            "For values of alpha =  0.1 The log loss is: 1.4304031124694203\n",
            "For values of alpha =  1 The log loss is: 1.473481261133758\n"
          ],
          "name": "stdout"
        }
      ]
    },
    {
      "cell_type": "code",
      "metadata": {
        "id": "q6TjvQul9fIq",
        "colab_type": "code",
        "colab": {
          "base_uri": "https://localhost:8080/",
          "height": 295
        },
        "outputId": "3a322e20-97c8-4e67-ec28-9c7f50711855"
      },
      "source": [
        "# Lets plot the same to check the best Alpha value\n",
        "fig, ax = plt.subplots()\n",
        "ax.plot(alpha, cv_log_error_array,c='g')\n",
        "for i, txt in enumerate(np.round(cv_log_error_array,3)):\n",
        "    ax.annotate((alpha[i],np.round(txt,3)), (alpha[i],cv_log_error_array[i]))\n",
        "plt.grid()\n",
        "plt.title(\"Cross Validation Error for each alpha\")\n",
        "plt.xlabel(\"Alpha i's\")\n",
        "plt.ylabel(\"Error measure\")\n",
        "plt.show()"
      ],
      "execution_count": 94,
      "outputs": [
        {
          "output_type": "display_data",
          "data": {
            "image/png": "[encoded data removed]",
            "text/plain": [
              "<Figure size 432x288 with 1 Axes>"
            ]
          },
          "metadata": {
            "tags": []
          }
        }
      ]
    },
    {
      "cell_type": "code",
      "metadata": {
        "id": "R6g4BTQGGQET",
        "colab_type": "code",
        "colab": {
          "base_uri": "https://localhost:8080/",
          "height": 69
        },
        "outputId": "324fdc79-94e9-4b0a-c93c-cf622feef192"
      },
      "source": [
        "# Lets use best alpha value as we can see from above graph and compute log loss\n",
        "best_alpha = np.argmin(cv_log_error_array)\n",
        "clf = SGDClassifier(alpha=alpha[best_alpha], penalty='l2', loss='log', random_state=42)\n",
        "clf.fit(train_gene_feature_onehotCoding, y_train)\n",
        "sig_clf = CalibratedClassifierCV(clf, method=\"sigmoid\")\n",
        "sig_clf.fit(train_gene_feature_onehotCoding, y_train)\n",
        "\n",
        "predict_y = sig_clf.predict_proba(train_gene_feature_onehotCoding)\n",
        "print('For values of best alpha = ', alpha[best_alpha], \"The train log loss is:\",log_loss(y_train, predict_y, labels=clf.classes_, eps=1e-15))\n",
        "predict_y = sig_clf.predict_proba(cv_gene_feature_onehotCoding)\n",
        "print('For values of best alpha = ', alpha[best_alpha], \"The cross validation log loss is:\",log_loss(y_cv, predict_y, labels=clf.classes_, eps=1e-15))\n",
        "predict_y = sig_clf.predict_proba(test_gene_feature_onehotCoding)\n",
        "print('For values of best alpha = ', alpha[best_alpha], \"The test log loss is:\",log_loss(y_test, predict_y, labels=clf.classes_, eps=1e-15))"
      ],
      "execution_count": 95,
      "outputs": [
        {
          "output_type": "stream",
          "text": [
            "For values of best alpha =  0.0001 The train log loss is: 0.9867379155519896\n",
            "For values of best alpha =  0.0001 The cross validation log loss is: 1.1574550360357017\n",
            "For values of best alpha =  0.0001 The test log loss is: 1.2390118358369329\n"
          ],
          "name": "stdout"
        }
      ]
    },
    {
      "cell_type": "code",
      "metadata": {
        "id": "gKyhTyzZGipo",
        "colab_type": "code",
        "colab": {}
      },
      "source": [
        "test_coverage=test_df[test_df['Gene'].isin(list(set(train_df['Gene'])))].shape[0]\n",
        "cv_coverage=cv_df[cv_df['Gene'].isin(list(set(train_df['Gene'])))].shape[0]"
      ],
      "execution_count": 0,
      "outputs": []
    },
    {
      "cell_type": "code",
      "metadata": {
        "id": "4nvmYFZtHL03",
        "colab_type": "code",
        "colab": {
          "base_uri": "https://localhost:8080/",
          "height": 52
        },
        "outputId": "a4f8e008-7aeb-4a88-a391-25c730cd90f7"
      },
      "source": [
        "print('1. In test data',test_coverage, 'out of',test_df.shape[0], \":\",(test_coverage/test_df.shape[0])*100)\n",
        "print('2. In cross validation data',cv_coverage, 'out of ',cv_df.shape[0],\":\" ,(cv_coverage/cv_df.shape[0])*100)"
      ],
      "execution_count": 97,
      "outputs": [
        {
          "output_type": "stream",
          "text": [
            "1. In test data 640 out of 665 : 96.2406015037594\n",
            "2. In cross validation data 521 out of  532 : 97.93233082706767\n"
          ],
          "name": "stdout"
        }
      ]
    },
    {
      "cell_type": "code",
      "metadata": {
        "id": "JdYwMfL7HdzE",
        "colab_type": "code",
        "colab": {
          "base_uri": "https://localhost:8080/",
          "height": 225
        },
        "outputId": "e20e97e9-d088-4ca6-dcc6-00581ac86806"
      },
      "source": [
        "unique_variations = train_df['Variation'].value_counts()\n",
        "print('Number of Unique Variations :', unique_variations.shape[0])\n",
        "# the top 10 variations that occured most\n",
        "print(train_df['Variation'].head(10))"
      ],
      "execution_count": 99,
      "outputs": [
        {
          "output_type": "stream",
          "text": [
            "Number of Unique Variations : 1934\n",
            "2300            S646F\n",
            "1713            F367S\n",
            "1083            Y646H\n",
            "86      Amplification\n",
            "470             R248Q\n",
            "2594             E60L\n",
            "3043            Y823D\n",
            "1184            K111N\n",
            "1799            F877L\n",
            "1891           S2215Y\n",
            "Name: Variation, dtype: object\n"
          ],
          "name": "stdout"
        }
      ]
    },
    {
      "cell_type": "code",
      "metadata": {
        "id": "WW0ABh6AHtAQ",
        "colab_type": "code",
        "colab": {
          "base_uri": "https://localhost:8080/",
          "height": 283
        },
        "outputId": "aa0d336d-2ea7-494b-a052-fe90650ae1ad"
      },
      "source": [
        "s = sum(unique_variations.values);\n",
        "h = unique_variations.values/s;\n",
        "c = np.cumsum(h)\n",
        "print(c)\n",
        "plt.plot(c,label='Cumulative distribution of Variations')\n",
        "plt.grid()\n",
        "plt.legend()\n",
        "plt.show()"
      ],
      "execution_count": 100,
      "outputs": [
        {
          "output_type": "stream",
          "text": [
            "[0.0240113  0.04566855 0.06685499 ... 0.99905838 0.99952919 1.        ]\n"
          ],
          "name": "stdout"
        },
        {
          "output_type": "display_data",
          "data": {
            "image/png": "[encoded data removed]",
            "text/plain": [
              "<Figure size 432x288 with 1 Axes>"
            ]
          },
          "metadata": {
            "tags": []
          }
        }
      ]
    },
    {
      "cell_type": "code",
      "metadata": {
        "id": "YfH61-eYH5CL",
        "colab_type": "code",
        "colab": {}
      },
      "source": [
        "# one-hot encoding of variation feature.\n",
        "variation_vectorizer = CountVectorizer()\n",
        "train_variation_feature_onehotCoding = variation_vectorizer.fit_transform(train_df['Variation'])\n",
        "test_variation_feature_onehotCoding = variation_vectorizer.transform(test_df['Variation'])\n",
        "cv_variation_feature_onehotCoding = variation_vectorizer.transform(cv_df['Variation'])"
      ],
      "execution_count": 0,
      "outputs": []
    },
    {
      "cell_type": "code",
      "metadata": {
        "id": "sZlneINiH8Xr",
        "colab_type": "code",
        "colab": {
          "base_uri": "https://localhost:8080/",
          "height": 35
        },
        "outputId": "942caca5-cad1-4ee3-ac71-2b291e361159"
      },
      "source": [
        "train_variation_feature_onehotCoding.shape"
      ],
      "execution_count": 102,
      "outputs": [
        {
          "output_type": "execute_result",
          "data": {
            "text/plain": [
              "(2124, 1964)"
            ]
          },
          "metadata": {
            "tags": []
          },
          "execution_count": 102
        }
      ]
    },
    {
      "cell_type": "code",
      "metadata": {
        "id": "h2-0pCk0IBGS",
        "colab_type": "code",
        "colab": {}
      },
      "source": [
        "# alpha is used for laplace smoothing\n",
        "alpha = 1\n",
        "# train gene feature\n",
        "train_variation_feature_responseCoding = np.array(get_gv_feature(alpha, \"Variation\", train_df))\n",
        "# test gene feature\n",
        "test_variation_feature_responseCoding = np.array(get_gv_feature(alpha, \"Variation\", test_df))\n",
        "# cross validation gene feature\n",
        "cv_variation_feature_responseCoding = np.array(get_gv_feature(alpha, \"Variation\", cv_df))"
      ],
      "execution_count": 0,
      "outputs": []
    },
    {
      "cell_type": "code",
      "metadata": {
        "id": "6Cv76omCIFOf",
        "colab_type": "code",
        "colab": {
          "base_uri": "https://localhost:8080/",
          "height": 35
        },
        "outputId": "f301a17f-66bf-4268-c184-e77fe8d0a0a2"
      },
      "source": [
        "train_variation_feature_responseCoding.shape"
      ],
      "execution_count": 104,
      "outputs": [
        {
          "output_type": "execute_result",
          "data": {
            "text/plain": [
              "(2124, 9)"
            ]
          },
          "metadata": {
            "tags": []
          },
          "execution_count": 104
        }
      ]
    },
    {
      "cell_type": "code",
      "metadata": {
        "id": "q50uW-UxIJVQ",
        "colab_type": "code",
        "colab": {
          "base_uri": "https://localhost:8080/",
          "height": 121
        },
        "outputId": "bad1572c-41f9-4474-e417-5e02ac2a2fbd"
      },
      "source": [
        "# We need a hyperparemeter for SGD classifier.\n",
        "alpha = [10 ** x for x in range(-5, 1)]\n",
        "\n",
        "cv_log_error_array=[]\n",
        "for i in alpha:\n",
        "    clf = SGDClassifier(alpha=i, penalty='l2', loss='log', random_state=42)\n",
        "    clf.fit(train_variation_feature_onehotCoding, y_train)\n",
        "    \n",
        "    sig_clf = CalibratedClassifierCV(clf, method=\"sigmoid\")\n",
        "    sig_clf.fit(train_variation_feature_onehotCoding, y_train)\n",
        "    predict_y = sig_clf.predict_proba(cv_variation_feature_onehotCoding)\n",
        "    \n",
        "    cv_log_error_array.append(log_loss(y_cv, predict_y, labels=clf.classes_, eps=1e-15))\n",
        "    print('For values of alpha = ', i, \"The log loss is:\",log_loss(y_cv, predict_y, labels=clf.classes_, eps=1e-15))"
      ],
      "execution_count": 105,
      "outputs": [
        {
          "output_type": "stream",
          "text": [
            "For values of alpha =  1e-05 The log loss is: 1.6913646513493026\n",
            "For values of alpha =  0.0001 The log loss is: 1.6829484626869897\n",
            "For values of alpha =  0.001 The log loss is: 1.687649898569095\n",
            "For values of alpha =  0.01 The log loss is: 1.6987479608511602\n",
            "For values of alpha =  0.1 The log loss is: 1.7106988500559341\n",
            "For values of alpha =  1 The log loss is: 1.711702648848253\n"
          ],
          "name": "stdout"
        }
      ]
    },
    {
      "cell_type": "code",
      "metadata": {
        "id": "BrkYOMUbISDZ",
        "colab_type": "code",
        "colab": {
          "base_uri": "https://localhost:8080/",
          "height": 295
        },
        "outputId": "007ecf79-ac5f-4b1c-c298-76736252aa07"
      },
      "source": [
        "# Lets plot the same to check the best Alpha value\n",
        "fig, ax = plt.subplots()\n",
        "ax.plot(alpha, cv_log_error_array,c='g')\n",
        "for i, txt in enumerate(np.round(cv_log_error_array,3)):\n",
        "    ax.annotate((alpha[i],np.round(txt,3)), (alpha[i],cv_log_error_array[i]))\n",
        "plt.grid()\n",
        "plt.title(\"Cross Validation Error for each alpha\")\n",
        "plt.xlabel(\"Alpha i's\")\n",
        "plt.ylabel(\"Error measure\")\n",
        "plt.show()"
      ],
      "execution_count": 106,
      "outputs": [
        {
          "output_type": "display_data",
          "data": {
            "image/png": "[encoded data removed]",
            "text/plain": [
              "<Figure size 432x288 with 1 Axes>"
            ]
          },
          "metadata": {
            "tags": []
          }
        }
      ]
    },
    {
      "cell_type": "code",
      "metadata": {
        "id": "pGX9nmCAIW-g",
        "colab_type": "code",
        "colab": {
          "base_uri": "https://localhost:8080/",
          "height": 69
        },
        "outputId": "8670a7eb-5e5b-4973-b583-e9c88f8f4e43"
      },
      "source": [
        "best_alpha = np.argmin(cv_log_error_array)\n",
        "clf = SGDClassifier(alpha=alpha[best_alpha], penalty='l2', loss='log', random_state=42)\n",
        "clf.fit(train_variation_feature_onehotCoding, y_train)\n",
        "sig_clf = CalibratedClassifierCV(clf, method=\"sigmoid\")\n",
        "sig_clf.fit(train_variation_feature_onehotCoding, y_train)\n",
        "\n",
        "predict_y = sig_clf.predict_proba(train_variation_feature_onehotCoding)\n",
        "print('For values of best alpha = ', alpha[best_alpha], \"The train log loss is:\",log_loss(y_train, predict_y, labels=clf.classes_, eps=1e-15))\n",
        "predict_y = sig_clf.predict_proba(cv_variation_feature_onehotCoding)\n",
        "print('For values of best alpha = ', alpha[best_alpha], \"The cross validation log loss is:\",log_loss(y_cv, predict_y, labels=clf.classes_, eps=1e-15))\n",
        "predict_y = sig_clf.predict_proba(test_variation_feature_onehotCoding)\n",
        "print('For values of best alpha = ', alpha[best_alpha], \"The test log loss is:\",log_loss(y_test, predict_y, labels=clf.classes_, eps=1e-15))"
      ],
      "execution_count": 107,
      "outputs": [
        {
          "output_type": "stream",
          "text": [
            "For values of best alpha =  0.0001 The train log loss is: 0.7062846878318276\n",
            "For values of best alpha =  0.0001 The cross validation log loss is: 1.6829484626869897\n",
            "For values of best alpha =  0.0001 The test log loss is: 1.6904304030066608\n"
          ],
          "name": "stdout"
        }
      ]
    },
    {
      "cell_type": "code",
      "metadata": {
        "id": "UOWOYc3kImbr",
        "colab_type": "code",
        "colab": {
          "base_uri": "https://localhost:8080/",
          "height": 52
        },
        "outputId": "0a50c255-8aba-435b-d65a-e13ccea03626"
      },
      "source": [
        "test_coverage=test_df[test_df['Variation'].isin(list(set(train_df['Variation'])))].shape[0]\n",
        "cv_coverage=cv_df[cv_df['Variation'].isin(list(set(train_df['Variation'])))].shape[0]\n",
        "\n",
        "print('1. In test data',test_coverage, 'out of',test_df.shape[0], \":\",(test_coverage/test_df.shape[0])*100)\n",
        "print('2. In cross validation data',cv_coverage, 'out of ',cv_df.shape[0],\":\" ,(cv_coverage/cv_df.shape[0])*100)"
      ],
      "execution_count": 108,
      "outputs": [
        {
          "output_type": "stream",
          "text": [
            "1. In test data 73 out of 665 : 10.977443609022556\n",
            "2. In cross validation data 56 out of  532 : 10.526315789473683\n"
          ],
          "name": "stdout"
        }
      ]
    },
    {
      "cell_type": "code",
      "metadata": {
        "id": "YSo-iqM-J0_o",
        "colab_type": "code",
        "colab": {}
      },
      "source": [
        "# cls_text is a data frame\n",
        "# for every row in data fram consider the 'TEXT'\n",
        "# split the words by space\n",
        "# make a dict with those words\n",
        "# increment its count whenever we see that word\n",
        "\n",
        "def extract_dictionary_paddle(cls_text):\n",
        "    dictionary = defaultdict(int)\n",
        "    for index, row in cls_text.iterrows():\n",
        "        for word in row['TEXT'].split():\n",
        "            dictionary[word] +=1\n",
        "    return dictionary"
      ],
      "execution_count": 0,
      "outputs": []
    },
    {
      "cell_type": "code",
      "metadata": {
        "id": "PijTrkJfKCCu",
        "colab_type": "code",
        "colab": {}
      },
      "source": [
        "import math\n",
        "\n",
        "def get_text_responsecoding(df):\n",
        "    text_feature_responseCoding = np.zeros((df.shape[0],9))\n",
        "    for i in range(0,9):\n",
        "        row_index = 0\n",
        "        for index, row in df.iterrows():\n",
        "            sum_prob = 0\n",
        "            for word in row['TEXT'].split():\n",
        "                sum_prob += math.log(((dict_list[i].get(word,0)+10 )/(total_dict.get(word,0)+90)))\n",
        "            text_feature_responseCoding[row_index][i] = math.exp(sum_prob/len(row['TEXT'].split()))\n",
        "            row_index += 1\n",
        "    return text_feature_responseCoding"
      ],
      "execution_count": 0,
      "outputs": []
    },
    {
      "cell_type": "code",
      "metadata": {
        "id": "aYirjv2VLPAO",
        "colab_type": "code",
        "colab": {
          "base_uri": "https://localhost:8080/",
          "height": 35
        },
        "outputId": "db41ab1e-5ccc-429b-b780-abd47a747edb"
      },
      "source": [
        "# building a CountVectorizer with all the words that occured minimum 3 times in train data\n",
        "text_vectorizer = CountVectorizer(min_df=3)\n",
        "train_text_feature_onehotCoding = text_vectorizer.fit_transform(train_df['TEXT'])\n",
        "# getting all the feature names (words)\n",
        "train_text_features= text_vectorizer.get_feature_names()\n",
        "\n",
        "# train_text_feature_onehotCoding.sum(axis=0).A1 will sum every row and returns (1*number of features) vector\n",
        "train_text_fea_counts = train_text_feature_onehotCoding.sum(axis=0).A1\n",
        "\n",
        "# zip(list(text_features),text_fea_counts) will zip a word with its number of times it occured\n",
        "text_fea_dict = dict(zip(list(train_text_features),train_text_fea_counts))\n",
        "\n",
        "\n",
        "print(\"Total number of unique words in train data :\", len(train_text_features))"
      ],
      "execution_count": 113,
      "outputs": [
        {
          "output_type": "stream",
          "text": [
            "Total number of unique words in train data : 52904\n"
          ],
          "name": "stdout"
        }
      ]
    },
    {
      "cell_type": "code",
      "metadata": {
        "id": "GBV0ZxaZL9NZ",
        "colab_type": "code",
        "colab": {}
      },
      "source": [
        "dict_list = []\n",
        "# dict_list =[] contains 9 dictionaries each corresponds to a class\n",
        "for i in range(1,10):\n",
        "    cls_text = train_df[train_df['Class']==i]\n",
        "    # build a word dict based on the words in that class\n",
        "    dict_list.append(extract_dictionary_paddle(cls_text))\n",
        "    # append it to dict_list\n",
        "\n",
        "# dict_list[i] is build on i'th  class text data\n",
        "# total_dict is buid on whole training text data\n",
        "total_dict = extract_dictionary_paddle(train_df)\n",
        "\n",
        "\n",
        "confuse_array = []\n",
        "for i in train_text_features:\n",
        "    ratios = []\n",
        "    max_val = -1\n",
        "    for j in range(0,9):\n",
        "        ratios.append((dict_list[j][i]+10 )/(total_dict[i]+90))\n",
        "    confuse_array.append(ratios)\n",
        "confuse_array = np.array(confuse_array)"
      ],
      "execution_count": 0,
      "outputs": []
    },
    {
      "cell_type": "code",
      "metadata": {
        "id": "95HJLQ9YMpFr",
        "colab_type": "code",
        "colab": {}
      },
      "source": [
        "#response coding of text features\n",
        "train_text_feature_responseCoding  = get_text_responsecoding(train_df)\n",
        "test_text_feature_responseCoding  = get_text_responsecoding(test_df)\n",
        "cv_text_feature_responseCoding  = get_text_responsecoding(cv_df)"
      ],
      "execution_count": 0,
      "outputs": []
    },
    {
      "cell_type": "code",
      "metadata": {
        "id": "QCnKmmLKM1N2",
        "colab_type": "code",
        "colab": {}
      },
      "source": [
        "# we convert each row values such that they sum to 1  \n",
        "train_text_feature_responseCoding = (train_text_feature_responseCoding.T/train_text_feature_responseCoding.sum(axis=1)).T\n",
        "test_text_feature_responseCoding = (test_text_feature_responseCoding.T/test_text_feature_responseCoding.sum(axis=1)).T\n",
        "cv_text_feature_responseCoding = (cv_text_feature_responseCoding.T/cv_text_feature_responseCoding.sum(axis=1)).T"
      ],
      "execution_count": 0,
      "outputs": []
    },
    {
      "cell_type": "code",
      "metadata": {
        "id": "IKwHsLY7NuOF",
        "colab_type": "code",
        "colab": {}
      },
      "source": [
        "train_text_feature_onehotCoding = normalize(train_text_feature_onehotCoding, axis=0)\n",
        "\n",
        "# we use the same vectorizer that was trained on train data\n",
        "test_text_feature_onehotCoding = text_vectorizer.transform(test_df['TEXT'])\n",
        "# don't forget to normalize every feature\n",
        "test_text_feature_onehotCoding = normalize(test_text_feature_onehotCoding, axis=0)\n",
        "\n",
        "# we use the same vectorizer that was trained on train data\n",
        "cv_text_feature_onehotCoding = text_vectorizer.transform(cv_df['TEXT'])\n",
        "# don't forget to normalize every feature\n",
        "cv_text_feature_onehotCoding = normalize(cv_text_feature_onehotCoding, axis=0)"
      ],
      "execution_count": 0,
      "outputs": []
    },
    {
      "cell_type": "code",
      "metadata": {
        "id": "R0zmz0_oOErl",
        "colab_type": "code",
        "colab": {
          "base_uri": "https://localhost:8080/",
          "height": 55
        },
        "outputId": "30288eb8-feed-4682-ce24-fd8ff0a6e6fb"
      },
      "source": [
        "sorted_text_fea_dict = dict(sorted(text_fea_dict.items(), key=lambda x: x[1] , reverse=True))\n",
        "sorted_text_occur = np.array(list(sorted_text_fea_dict.values()))\n",
        "print(Counter(sorted_text_occur))"
      ],
      "execution_count": 123,
      "outputs": [
        {
          "output_type": "stream",
          "text": [
            "Counter({3: 5006, 4: 4013, 6: 2476, 5: 2440, 7: 2261, 8: 2129, 9: 1597, 10: 1573, 11: 1312, 12: 1276, 13: 1065, 14: 865, 16: 859, 15: 773, 18: 764, 19: 601, 20: 553, 17: 543, 24: 535, 21: 516, 22: 502, 25: 380, 28: 379, 27: 364, 23: 362, 47: 338, 26: 327, 31: 324, 44: 310, 36: 297, 30: 291, 32: 283, 33: 277, 35: 268, 29: 265, 40: 227, 39: 216, 37: 214, 42: 212, 38: 212, 34: 211, 48: 185, 45: 177, 50: 171, 46: 164, 43: 157, 56: 156, 52: 151, 49: 151, 57: 148, 41: 146, 54: 145, 51: 144, 55: 143, 60: 137, 53: 131, 69: 123, 64: 122, 61: 117, 62: 116, 59: 114, 58: 113, 63: 111, 72: 104, 66: 100, 65: 100, 70: 94, 67: 94, 94: 92, 68: 87, 76: 85, 75: 85, 73: 84, 80: 83, 71: 81, 78: 79, 77: 77, 88: 75, 84: 74, 74: 74, 82: 73, 79: 72, 85: 70, 93: 69, 83: 67, 81: 66, 87: 65, 86: 64, 89: 63, 98: 60, 96: 60, 90: 60, 95: 59, 91: 58, 105: 57, 101: 56, 104: 55, 103: 55, 102: 55, 100: 54, 134: 53, 108: 53, 107: 52, 92: 52, 141: 51, 99: 50, 112: 49, 109: 49, 120: 48, 140: 47, 118: 47, 111: 47, 110: 46, 97: 46, 142: 45, 116: 45, 113: 45, 126: 44, 123: 43, 122: 43, 128: 41, 121: 41, 155: 40, 161: 39, 138: 39, 125: 39, 106: 39, 130: 38, 143: 37, 139: 37, 220: 36, 147: 36, 144: 36, 117: 36, 115: 36, 132: 35, 127: 35, 129: 34, 191: 33, 136: 33, 114: 33, 198: 32, 172: 32, 165: 32, 160: 32, 159: 32, 133: 32, 206: 31, 162: 31, 156: 31, 137: 31, 124: 31, 119: 31, 171: 30, 167: 30, 188: 29, 154: 29, 153: 29, 131: 29, 184: 28, 166: 28, 158: 28, 135: 28, 211: 27, 151: 27, 168: 26, 163: 26, 152: 26, 150: 26, 149: 26, 145: 26, 183: 25, 177: 25, 204: 24, 169: 24, 164: 24, 157: 24, 222: 23, 221: 22, 209: 22, 200: 22, 195: 22, 185: 22, 176: 22, 173: 22, 170: 22, 146: 22, 259: 21, 225: 21, 214: 21, 303: 20, 297: 20, 258: 20, 235: 20, 215: 20, 313: 19, 251: 19, 242: 19, 237: 19, 223: 19, 216: 19, 213: 19, 199: 19, 197: 19, 190: 19, 189: 19, 175: 19, 277: 18, 271: 18, 256: 18, 228: 18, 218: 18, 203: 18, 181: 18, 180: 18, 179: 18, 178: 18, 174: 18, 148: 18, 252: 17, 234: 17, 231: 17, 230: 17, 224: 17, 205: 17, 201: 17, 193: 17, 322: 16, 282: 16, 266: 16, 248: 16, 241: 16, 229: 16, 212: 16, 207: 16, 192: 16, 187: 16, 186: 16, 182: 16, 217: 15, 210: 15, 202: 15, 196: 15, 310: 14, 293: 14, 285: 14, 264: 14, 262: 14, 250: 14, 249: 14, 244: 14, 240: 14, 239: 14, 233: 14, 208: 14, 194: 14, 377: 13, 351: 13, 350: 13, 327: 13, 301: 13, 299: 13, 298: 13, 295: 13, 292: 13, 278: 13, 269: 13, 261: 13, 255: 13, 246: 13, 226: 13, 508: 12, 388: 12, 373: 12, 362: 12, 353: 12, 338: 12, 335: 12, 332: 12, 320: 12, 306: 12, 304: 12, 296: 12, 286: 12, 284: 12, 272: 12, 257: 12, 254: 12, 245: 12, 238: 12, 232: 12, 219: 12, 405: 11, 345: 11, 342: 11, 333: 11, 329: 11, 328: 11, 325: 11, 318: 11, 316: 11, 307: 11, 294: 11, 291: 11, 270: 11, 267: 11, 227: 11, 463: 10, 395: 10, 392: 10, 361: 10, 352: 10, 344: 10, 339: 10, 330: 10, 321: 10, 314: 10, 305: 10, 287: 10, 283: 10, 279: 10, 273: 10, 268: 10, 265: 10, 263: 10, 253: 10, 247: 10, 236: 10, 650: 9, 616: 9, 509: 9, 493: 9, 452: 9, 440: 9, 429: 9, 376: 9, 372: 9, 369: 9, 368: 9, 354: 9, 349: 9, 317: 9, 312: 9, 288: 9, 281: 9, 275: 9, 274: 9, 260: 9, 548: 8, 512: 8, 482: 8, 473: 8, 471: 8, 460: 8, 451: 8, 445: 8, 438: 8, 432: 8, 427: 8, 419: 8, 418: 8, 417: 8, 404: 8, 399: 8, 359: 8, 347: 8, 340: 8, 337: 8, 331: 8, 326: 8, 323: 8, 315: 8, 311: 8, 308: 8, 290: 8, 289: 8, 276: 8, 809: 7, 802: 7, 667: 7, 647: 7, 645: 7, 643: 7, 618: 7, 584: 7, 577: 7, 557: 7, 513: 7, 505: 7, 500: 7, 487: 7, 470: 7, 456: 7, 449: 7, 448: 7, 446: 7, 431: 7, 426: 7, 411: 7, 407: 7, 400: 7, 390: 7, 387: 7, 384: 7, 375: 7, 371: 7, 370: 7, 367: 7, 363: 7, 358: 7, 348: 7, 343: 7, 341: 7, 336: 7, 280: 7, 243: 7, 860: 6, 788: 6, 780: 6, 745: 6, 730: 6, 728: 6, 688: 6, 686: 6, 668: 6, 638: 6, 629: 6, 617: 6, 596: 6, 580: 6, 572: 6, 555: 6, 549: 6, 547: 6, 544: 6, 535: 6, 529: 6, 526: 6, 524: 6, 521: 6, 507: 6, 492: 6, 480: 6, 479: 6, 472: 6, 461: 6, 458: 6, 457: 6, 453: 6, 450: 6, 443: 6, 437: 6, 435: 6, 434: 6, 424: 6, 420: 6, 416: 6, 414: 6, 413: 6, 412: 6, 401: 6, 397: 6, 389: 6, 385: 6, 379: 6, 378: 6, 365: 6, 364: 6, 360: 6, 357: 6, 346: 6, 324: 6, 302: 6, 300: 6, 1864: 5, 1191: 5, 929: 5, 888: 5, 873: 5, 845: 5, 815: 5, 813: 5, 811: 5, 810: 5, 800: 5, 783: 5, 757: 5, 751: 5, 748: 5, 735: 5, 733: 5, 727: 5, 722: 5, 694: 5, 687: 5, 664: 5, 658: 5, 648: 5, 631: 5, 622: 5, 620: 5, 610: 5, 607: 5, 603: 5, 599: 5, 593: 5, 587: 5, 583: 5, 582: 5, 575: 5, 570: 5, 564: 5, 561: 5, 558: 5, 554: 5, 546: 5, 542: 5, 537: 5, 536: 5, 534: 5, 533: 5, 531: 5, 519: 5, 516: 5, 515: 5, 495: 5, 488: 5, 485: 5, 481: 5, 475: 5, 467: 5, 459: 5, 447: 5, 442: 5, 441: 5, 425: 5, 406: 5, 403: 5, 396: 5, 393: 5, 382: 5, 381: 5, 380: 5, 309: 5, 2709: 4, 2149: 4, 2079: 4, 2007: 4, 1971: 4, 1672: 4, 1657: 4, 1564: 4, 1554: 4, 1397: 4, 1381: 4, 1309: 4, 1197: 4, 1187: 4, 1163: 4, 1159: 4, 1078: 4, 1030: 4, 1006: 4, 995: 4, 992: 4, 924: 4, 917: 4, 909: 4, 908: 4, 905: 4, 858: 4, 852: 4, 844: 4, 841: 4, 839: 4, 812: 4, 808: 4, 801: 4, 790: 4, 786: 4, 773: 4, 770: 4, 768: 4, 766: 4, 764: 4, 760: 4, 756: 4, 753: 4, 731: 4, 720: 4, 717: 4, 711: 4, 706: 4, 701: 4, 698: 4, 697: 4, 695: 4, 693: 4, 691: 4, 677: 4, 675: 4, 669: 4, 653: 4, 646: 4, 644: 4, 633: 4, 628: 4, 626: 4, 611: 4, 597: 4, 588: 4, 581: 4, 574: 4, 571: 4, 566: 4, 560: 4, 559: 4, 556: 4, 551: 4, 527: 4, 525: 4, 523: 4, 517: 4, 514: 4, 511: 4, 506: 4, 502: 4, 499: 4, 498: 4, 497: 4, 494: 4, 484: 4, 483: 4, 476: 4, 469: 4, 468: 4, 466: 4, 465: 4, 454: 4, 436: 4, 428: 4, 423: 4, 394: 4, 386: 4, 383: 4, 366: 4, 356: 4, 355: 4, 334: 4, 319: 4, 7248: 3, 6736: 3, 3781: 3, 3253: 3, 3221: 3, 3057: 3, 2447: 3, 2383: 3, 2273: 3, 2181: 3, 2002: 3, 1844: 3, 1799: 3, 1649: 3, 1639: 3, 1623: 3, 1609: 3, 1602: 3, 1599: 3, 1583: 3, 1557: 3, 1539: 3, 1524: 3, 1488: 3, 1484: 3, 1480: 3, 1476: 3, 1465: 3, 1457: 3, 1446: 3, 1436: 3, 1376: 3, 1374: 3, 1372: 3, 1357: 3, 1356: 3, 1350: 3, 1347: 3, 1344: 3, 1335: 3, 1334: 3, 1330: 3, 1304: 3, 1301: 3, 1297: 3, 1291: 3, 1283: 3, 1282: 3, 1256: 3, 1252: 3, 1245: 3, 1241: 3, 1237: 3, 1220: 3, 1188: 3, 1186: 3, 1185: 3, 1179: 3, 1151: 3, 1149: 3, 1137: 3, 1136: 3, 1133: 3, 1127: 3, 1120: 3, 1110: 3, 1103: 3, 1090: 3, 1086: 3, 1070: 3, 1051: 3, 1047: 3, 1044: 3, 1021: 3, 1018: 3, 1016: 3, 1014: 3, 998: 3, 990: 3, 989: 3, 984: 3, 982: 3, 979: 3, 978: 3, 971: 3, 963: 3, 955: 3, 953: 3, 952: 3, 949: 3, 942: 3, 939: 3, 937: 3, 930: 3, 916: 3, 913: 3, 904: 3, 895: 3, 894: 3, 889: 3, 882: 3, 876: 3, 870: 3, 868: 3, 864: 3, 862: 3, 856: 3, 854: 3, 846: 3, 840: 3, 837: 3, 833: 3, 830: 3, 826: 3, 823: 3, 821: 3, 817: 3, 816: 3, 806: 3, 796: 3, 795: 3, 794: 3, 785: 3, 778: 3, 777: 3, 776: 3, 775: 3, 772: 3, 749: 3, 744: 3, 741: 3, 736: 3, 734: 3, 726: 3, 724: 3, 721: 3, 705: 3, 702: 3, 700: 3, 699: 3, 684: 3, 672: 3, 671: 3, 659: 3, 657: 3, 655: 3, 640: 3, 635: 3, 634: 3, 625: 3, 623: 3, 614: 3, 613: 3, 609: 3, 605: 3, 604: 3, 602: 3, 595: 3, 592: 3, 591: 3, 579: 3, 578: 3, 576: 3, 569: 3, 568: 3, 567: 3, 553: 3, 552: 3, 550: 3, 543: 3, 532: 3, 530: 3, 522: 3, 518: 3, 504: 3, 501: 3, 496: 3, 489: 3, 478: 3, 477: 3, 444: 3, 433: 3, 430: 3, 415: 3, 409: 3, 408: 3, 402: 3, 398: 3, 374: 3, 13680: 2, 12585: 2, 12310: 2, 8175: 2, 8090: 2, 7061: 2, 6631: 2, 6481: 2, 5138: 2, 5081: 2, 4873: 2, 4840: 2, 4734: 2, 4710: 2, 4523: 2, 4441: 2, 4440: 2, 4427: 2, 4376: 2, 4340: 2, 4240: 2, 4218: 2, 4163: 2, 4143: 2, 4140: 2, 4119: 2, 4051: 2, 4016: 2, 3861: 2, 3802: 2, 3764: 2, 3739: 2, 3736: 2, 3713: 2, 3698: 2, 3673: 2, 3625: 2, 3616: 2, 3588: 2, 3569: 2, 3551: 2, 3530: 2, 3516: 2, 3440: 2, 3397: 2, 3376: 2, 3355: 2, 3324: 2, 3316: 2, 3313: 2, 3206: 2, 3200: 2, 3195: 2, 3192: 2, 3174: 2, 3119: 2, 3077: 2, 3021: 2, 3016: 2, 2957: 2, 2860: 2, 2836: 2, 2803: 2, 2798: 2, 2715: 2, 2688: 2, 2629: 2, 2618: 2, 2601: 2, 2594: 2, 2569: 2, 2558: 2, 2552: 2, 2547: 2, 2529: 2, 2520: 2, 2502: 2, 2497: 2, 2469: 2, 2439: 2, 2413: 2, 2391: 2, 2381: 2, 2349: 2, 2332: 2, 2322: 2, 2308: 2, 2305: 2, 2204: 2, 2188: 2, 2177: 2, 2171: 2, 2167: 2, 2153: 2, 2151: 2, 2132: 2, 2126: 2, 2123: 2, 2087: 2, 2080: 2, 2035: 2, 2031: 2, 2023: 2, 2009: 2, 2008: 2, 2005: 2, 1999: 2, 1989: 2, 1975: 2, 1922: 2, 1917: 2, 1916: 2, 1910: 2, 1884: 2, 1882: 2, 1865: 2, 1858: 2, 1851: 2, 1843: 2, 1824: 2, 1819: 2, 1818: 2, 1807: 2, 1806: 2, 1795: 2, 1793: 2, 1787: 2, 1785: 2, 1761: 2, 1748: 2, 1738: 2, 1737: 2, 1734: 2, 1733: 2, 1731: 2, 1720: 2, 1719: 2, 1715: 2, 1714: 2, 1709: 2, 1688: 2, 1686: 2, 1684: 2, 1683: 2, 1681: 2, 1661: 2, 1652: 2, 1646: 2, 1637: 2, 1619: 2, 1612: 2, 1605: 2, 1588: 2, 1582: 2, 1573: 2, 1571: 2, 1568: 2, 1561: 2, 1553: 2, 1551: 2, 1541: 2, 1538: 2, 1529: 2, 1525: 2, 1511: 2, 1508: 2, 1504: 2, 1503: 2, 1501: 2, 1500: 2, 1499: 2, 1494: 2, 1490: 2, 1485: 2, 1477: 2, 1464: 2, 1448: 2, 1442: 2, 1439: 2, 1435: 2, 1433: 2, 1432: 2, 1427: 2, 1425: 2, 1421: 2, 1409: 2, 1387: 2, 1371: 2, 1369: 2, 1367: 2, 1364: 2, 1354: 2, 1351: 2, 1349: 2, 1337: 2, 1325: 2, 1318: 2, 1316: 2, 1312: 2, 1311: 2, 1308: 2, 1306: 2, 1299: 2, 1298: 2, 1296: 2, 1286: 2, 1285: 2, 1278: 2, 1275: 2, 1274: 2, 1268: 2, 1265: 2, 1255: 2, 1253: 2, 1250: 2, 1246: 2, 1244: 2, 1233: 2, 1230: 2, 1229: 2, 1221: 2, 1216: 2, 1215: 2, 1209: 2, 1205: 2, 1195: 2, 1192: 2, 1184: 2, 1181: 2, 1180: 2, 1176: 2, 1166: 2, 1164: 2, 1162: 2, 1158: 2, 1157: 2, 1155: 2, 1150: 2, 1144: 2, 1135: 2, 1134: 2, 1132: 2, 1131: 2, 1126: 2, 1124: 2, 1118: 2, 1116: 2, 1114: 2, 1113: 2, 1111: 2, 1109: 2, 1105: 2, 1102: 2, 1099: 2, 1075: 2, 1073: 2, 1071: 2, 1069: 2, 1067: 2, 1060: 2, 1057: 2, 1053: 2, 1048: 2, 1043: 2, 1042: 2, 1039: 2, 1038: 2, 1036: 2, 1029: 2, 1025: 2, 1023: 2, 1012: 2, 1011: 2, 1008: 2, 1007: 2, 1002: 2, 1001: 2, 1000: 2, 997: 2, 994: 2, 988: 2, 987: 2, 985: 2, 983: 2, 977: 2, 973: 2, 970: 2, 967: 2, 964: 2, 962: 2, 961: 2, 960: 2, 959: 2, 957: 2, 956: 2, 954: 2, 951: 2, 948: 2, 947: 2, 945: 2, 944: 2, 938: 2, 936: 2, 934: 2, 919: 2, 915: 2, 910: 2, 906: 2, 903: 2, 902: 2, 899: 2, 898: 2, 893: 2, 887: 2, 881: 2, 880: 2, 879: 2, 878: 2, 877: 2, 874: 2, 869: 2, 865: 2, 851: 2, 850: 2, 849: 2, 835: 2, 832: 2, 831: 2, 829: 2, 827: 2, 825: 2, 822: 2, 819: 2, 818: 2, 805: 2, 804: 2, 803: 2, 799: 2, 797: 2, 791: 2, 789: 2, 782: 2, 781: 2, 779: 2, 771: 2, 763: 2, 762: 2, 761: 2, 759: 2, 755: 2, 746: 2, 740: 2, 738: 2, 729: 2, 725: 2, 719: 2, 718: 2, 714: 2, 708: 2, 703: 2, 690: 2, 685: 2, 683: 2, 680: 2, 676: 2, 673: 2, 670: 2, 666: 2, 665: 2, 662: 2, 661: 2, 660: 2, 656: 2, 654: 2, 652: 2, 651: 2, 649: 2, 642: 2, 641: 2, 637: 2, 632: 2, 630: 2, 624: 2, 621: 2, 612: 2, 608: 2, 601: 2, 589: 2, 586: 2, 585: 2, 565: 2, 563: 2, 545: 2, 541: 2, 540: 2, 539: 2, 538: 2, 528: 2, 520: 2, 503: 2, 491: 2, 486: 2, 474: 2, 464: 2, 462: 2, 455: 2, 439: 2, 421: 2, 410: 2, 391: 2, 153740: 1, 120045: 1, 82554: 1, 68585: 1, 67504: 1, 67332: 1, 66456: 1, 64552: 1, 62620: 1, 56727: 1, 54440: 1, 50460: 1, 50065: 1, 47662: 1, 47425: 1, 45690: 1, 42485: 1, 42395: 1, 41536: 1, 41210: 1, 40696: 1, 40507: 1, 40449: 1, 38867: 1, 38683: 1, 38166: 1, 37494: 1, 36702: 1, 36115: 1, 35092: 1, 34425: 1, 33659: 1, 33391: 1, 32763: 1, 32409: 1, 31942: 1, 29330: 1, 28601: 1, 28392: 1, 27879: 1, 27097: 1, 26643: 1, 26637: 1, 25850: 1, 25729: 1, 24967: 1, 24926: 1, 24853: 1, 24611: 1, 24395: 1, 24323: 1, 24144: 1, 24129: 1, 23184: 1, 22448: 1, 22331: 1, 22278: 1, 21861: 1, 21679: 1, 21545: 1, 21196: 1, 20829: 1, 20562: 1, 20414: 1, 19541: 1, 19502: 1, 19415: 1, 19413: 1, 19362: 1, 19356: 1, 19200: 1, 18933: 1, 18889: 1, 18830: 1, 18746: 1, 18721: 1, 18587: 1, 18446: 1, 18442: 1, 18105: 1, 17951: 1, 17940: 1, 17806: 1, 17800: 1, 17702: 1, 17663: 1, 17473: 1, 17403: 1, 17380: 1, 17293: 1, 17265: 1, 17209: 1, 17050: 1, 16997: 1, 16826: 1, 16686: 1, 16576: 1, 16145: 1, 16133: 1, 15920: 1, 15823: 1, 15789: 1, 15770: 1, 15672: 1, 15599: 1, 15526: 1, 15412: 1, 15383: 1, 15282: 1, 15171: 1, 15153: 1, 15124: 1, 15059: 1, 14755: 1, 14743: 1, 14632: 1, 14598: 1, 14590: 1, 14474: 1, 14327: 1, 14145: 1, 14071: 1, 14058: 1, 13828: 1, 13622: 1, 13466: 1, 13370: 1, 13357: 1, 13346: 1, 13248: 1, 13227: 1, 13120: 1, 13082: 1, 13018: 1, 12993: 1, 12892: 1, 12872: 1, 12856: 1, 12815: 1, 12781: 1, 12754: 1, 12739: 1, 12734: 1, 12692: 1, 12686: 1, 12609: 1, 12552: 1, 12547: 1, 12484: 1, 12461: 1, 12409: 1, 12408: 1, 12368: 1, 12356: 1, 12327: 1, 12243: 1, 12231: 1, 12228: 1, 12181: 1, 12153: 1, 12125: 1, 12124: 1, 12006: 1, 11957: 1, 11772: 1, 11762: 1, 11655: 1, 11577: 1, 11530: 1, 11461: 1, 11389: 1, 11351: 1, 11350: 1, 11320: 1, 11129: 1, 11087: 1, 11061: 1, 10979: 1, 10927: 1, 10877: 1, 10798: 1, 10771: 1, 10666: 1, 10565: 1, 10543: 1, 10452: 1, 10391: 1, 10389: 1, 10385: 1, 10341: 1, 10312: 1, 10307: 1, 10301: 1, 10298: 1, 10276: 1, 10195: 1, 10047: 1, 9996: 1, 9953: 1, 9940: 1, 9906: 1, 9813: 1, 9792: 1, 9780: 1, 9762: 1, 9735: 1, 9731: 1, 9730: 1, 9626: 1, 9619: 1, 9582: 1, 9578: 1, 9550: 1, 9525: 1, 9469: 1, 9449: 1, 9446: 1, 9410: 1, 9401: 1, 9364: 1, 9334: 1, 9314: 1, 9298: 1, 9271: 1, 9259: 1, 9256: 1, 9194: 1, 9186: 1, 9162: 1, 9158: 1, 9117: 1, 9079: 1, 9068: 1, 9062: 1, 9054: 1, 8983: 1, 8938: 1, 8904: 1, 8889: 1, 8832: 1, 8813: 1, 8760: 1, 8754: 1, 8742: 1, 8725: 1, 8678: 1, 8604: 1, 8602: 1, 8556: 1, 8483: 1, 8462: 1, 8453: 1, 8409: 1, 8398: 1, 8369: 1, 8314: 1, 8306: 1, 8296: 1, 8292: 1, 8290: 1, 8283: 1, 8248: 1, 8189: 1, 8102: 1, 8080: 1, 8045: 1, 7996: 1, 7988: 1, 7980: 1, 7969: 1, 7931: 1, 7909: 1, 7904: 1, 7898: 1, 7865: 1, 7849: 1, 7821: 1, 7777: 1, 7738: 1, 7728: 1, 7707: 1, 7700: 1, 7699: 1, 7636: 1, 7506: 1, 7500: 1, 7493: 1, 7480: 1, 7468: 1, 7442: 1, 7412: 1, 7405: 1, 7386: 1, 7330: 1, 7301: 1, 7260: 1, 7249: 1, 7234: 1, 7228: 1, 7221: 1, 7211: 1, 7209: 1, 7191: 1, 7187: 1, 7171: 1, 7137: 1, 7126: 1, 7125: 1, 7110: 1, 7099: 1, 7074: 1, 7016: 1, 7014: 1, 7000: 1, 6990: 1, 6980: 1, 6964: 1, 6963: 1, 6927: 1, 6915: 1, 6914: 1, 6906: 1, 6897: 1, 6891: 1, 6866: 1, 6856: 1, 6837: 1, 6835: 1, 6818: 1, 6811: 1, 6810: 1, 6787: 1, 6778: 1, 6768: 1, 6756: 1, 6731: 1, 6706: 1, 6671: 1, 6657: 1, 6629: 1, 6603: 1, 6599: 1, 6572: 1, 6551: 1, 6541: 1, 6527: 1, 6515: 1, 6506: 1, 6483: 1, 6455: 1, 6430: 1, 6415: 1, 6409: 1, 6379: 1, 6378: 1, 6366: 1, 6359: 1, 6355: 1, 6317: 1, 6295: 1, 6279: 1, 6273: 1, 6236: 1, 6227: 1, 6220: 1, 6197: 1, 6185: 1, 6181: 1, 6171: 1, 6154: 1, 6148: 1, 6146: 1, 6119: 1, 6115: 1, 6109: 1, 6096: 1, 6090: 1, 6048: 1, 6044: 1, 6028: 1, 6020: 1, 6016: 1, 6011: 1, 6009: 1, 5997: 1, 5987: 1, 5986: 1, 5980: 1, 5971: 1, 5953: 1, 5932: 1, 5926: 1, 5912: 1, 5904: 1, 5901: 1, 5895: 1, 5830: 1, 5823: 1, 5809: 1, 5800: 1, 5787: 1, 5774: 1, 5772: 1, 5752: 1, 5744: 1, 5728: 1, 5705: 1, 5700: 1, 5696: 1, 5687: 1, 5657: 1, 5631: 1, 5605: 1, 5561: 1, 5558: 1, 5513: 1, 5506: 1, 5505: 1, 5495: 1, 5464: 1, 5460: 1, 5458: 1, 5457: 1, 5452: 1, 5450: 1, 5440: 1, 5438: 1, 5434: 1, 5424: 1, 5394: 1, 5377: 1, 5351: 1, 5340: 1, 5305: 1, 5302: 1, 5301: 1, 5290: 1, 5270: 1, 5264: 1, 5260: 1, 5254: 1, 5246: 1, 5244: 1, 5243: 1, 5240: 1, 5216: 1, 5193: 1, 5189: 1, 5183: 1, 5171: 1, 5163: 1, 5161: 1, 5144: 1, 5114: 1, 5099: 1, 5082: 1, 5079: 1, 5049: 1, 5047: 1, 5046: 1, 5041: 1, 5039: 1, 5029: 1, 5022: 1, 5007: 1, 5002: 1, 5000: 1, 4993: 1, 4991: 1, 4990: 1, 4982: 1, 4977: 1, 4973: 1, 4962: 1, 4934: 1, 4917: 1, 4914: 1, 4907: 1, 4897: 1, 4882: 1, 4876: 1, 4871: 1, 4868: 1, 4862: 1, 4851: 1, 4849: 1, 4848: 1, 4844: 1, 4819: 1, 4813: 1, 4799: 1, 4791: 1, 4782: 1, 4756: 1, 4754: 1, 4714: 1, 4707: 1, 4706: 1, 4701: 1, 4637: 1, 4618: 1, 4613: 1, 4611: 1, 4578: 1, 4575: 1, 4570: 1, 4553: 1, 4548: 1, 4541: 1, 4537: 1, 4531: 1, 4529: 1, 4527: 1, 4525: 1, 4515: 1, 4491: 1, 4487: 1, 4472: 1, 4463: 1, 4459: 1, 4425: 1, 4424: 1, 4419: 1, 4416: 1, 4402: 1, 4400: 1, 4399: 1, 4396: 1, 4382: 1, 4371: 1, 4325: 1, 4324: 1, 4322: 1, 4303: 1, 4302: 1, 4296: 1, 4284: 1, 4271: 1, 4270: 1, 4263: 1, 4249: 1, 4247: 1, 4246: 1, 4245: 1, 4243: 1, 4235: 1, 4226: 1, 4224: 1, 4221: 1, 4214: 1, 4209: 1, 4204: 1, 4199: 1, 4197: 1, 4189: 1, 4188: 1, 4177: 1, 4164: 1, 4151: 1, 4142: 1, 4128: 1, 4093: 1, 4078: 1, 4075: 1, 4070: 1, 4064: 1, 4056: 1, 4052: 1, 4022: 1, 4018: 1, 4007: 1, 4002: 1, 3996: 1, 3990: 1, 3989: 1, 3986: 1, 3982: 1, 3966: 1, 3962: 1, 3957: 1, 3956: 1, 3952: 1, 3946: 1, 3923: 1, 3917: 1, 3910: 1, 3908: 1, 3899: 1, 3897: 1, 3882: 1, 3880: 1, 3866: 1, 3865: 1, 3854: 1, 3852: 1, 3851: 1, 3841: 1, 3840: 1, 3838: 1, 3834: 1, 3833: 1, 3828: 1, 3817: 1, 3807: 1, 3801: 1, 3798: 1, 3780: 1, 3779: 1, 3772: 1, 3770: 1, 3767: 1, 3755: 1, 3743: 1, 3738: 1, 3733: 1, 3726: 1, 3723: 1, 3717: 1, 3715: 1, 3709: 1, 3708: 1, 3701: 1, 3700: 1, 3694: 1, 3693: 1, 3692: 1, 3688: 1, 3679: 1, 3675: 1, 3674: 1, 3672: 1, 3669: 1, 3664: 1, 3647: 1, 3646: 1, 3644: 1, 3639: 1, 3634: 1, 3626: 1, 3623: 1, 3613: 1, 3612: 1, 3590: 1, 3583: 1, 3580: 1, 3579: 1, 3578: 1, 3576: 1, 3572: 1, 3571: 1, 3566: 1, 3563: 1, 3550: 1, 3537: 1, 3529: 1, 3527: 1, 3518: 1, 3515: 1, 3508: 1, 3498: 1, 3497: 1, 3494: 1, 3481: 1, 3479: 1, 3477: 1, 3472: 1, 3470: 1, 3469: 1, 3468: 1, 3462: 1, 3458: 1, 3451: 1, 3447: 1, 3446: 1, 3444: 1, 3439: 1, 3434: 1, 3430: 1, 3429: 1, 3421: 1, 3420: 1, 3412: 1, 3408: 1, 3403: 1, 3387: 1, 3386: 1, 3383: 1, 3378: 1, 3375: 1, 3373: 1, 3366: 1, 3351: 1, 3349: 1, 3345: 1, 3341: 1, 3338: 1, 3331: 1, 3327: 1, 3310: 1, 3306: 1, 3305: 1, 3301: 1, 3298: 1, 3292: 1, 3291: 1, 3284: 1, 3279: 1, 3264: 1, 3260: 1, 3258: 1, 3257: 1, 3239: 1, 3238: 1, 3237: 1, 3234: 1, 3233: 1, 3230: 1, 3228: 1, 3217: 1, 3211: 1, 3172: 1, 3170: 1, 3168: 1, 3161: 1, 3158: 1, 3156: 1, 3141: 1, 3139: 1, 3138: 1, 3122: 1, 3117: 1, 3110: 1, 3105: 1, 3093: 1, 3092: 1, 3083: 1, 3081: 1, 3073: 1, 3066: 1, 3063: 1, 3051: 1, 3050: 1, 3048: 1, 3039: 1, 3037: 1, 3029: 1, 3019: 1, 3015: 1, 3011: 1, 3003: 1, 3000: 1, 2999: 1, 2996: 1, 2989: 1, 2980: 1, 2977: 1, 2971: 1, 2967: 1, 2963: 1, 2962: 1, 2959: 1, 2955: 1, 2951: 1, 2950: 1, 2949: 1, 2946: 1, 2938: 1, 2936: 1, 2930: 1, 2928: 1, 2926: 1, 2924: 1, 2922: 1, 2916: 1, 2910: 1, 2899: 1, 2893: 1, 2886: 1, 2883: 1, 2882: 1, 2878: 1, 2876: 1, 2873: 1, 2869: 1, 2857: 1, 2856: 1, 2855: 1, 2853: 1, 2839: 1, 2837: 1, 2833: 1, 2830: 1, 2828: 1, 2815: 1, 2812: 1, 2810: 1, 2805: 1, 2801: 1, 2779: 1, 2769: 1, 2765: 1, 2758: 1, 2752: 1, 2749: 1, 2747: 1, 2743: 1, 2742: 1, 2741: 1, 2739: 1, 2735: 1, 2728: 1, 2726: 1, 2722: 1, 2716: 1, 2710: 1, 2700: 1, 2687: 1, 2683: 1, 2682: 1, 2673: 1, 2672: 1, 2666: 1, 2661: 1, 2659: 1, 2657: 1, 2656: 1, 2655: 1, 2649: 1, 2648: 1, 2644: 1, 2643: 1, 2637: 1, 2631: 1, 2626: 1, 2614: 1, 2609: 1, 2598: 1, 2593: 1, 2584: 1, 2582: 1, 2581: 1, 2580: 1, 2579: 1, 2578: 1, 2572: 1, 2567: 1, 2565: 1, 2557: 1, 2556: 1, 2554: 1, 2553: 1, 2546: 1, 2539: 1, 2538: 1, 2537: 1, 2535: 1, 2534: 1, 2531: 1, 2530: 1, 2527: 1, 2526: 1, 2524: 1, 2522: 1, 2521: 1, 2515: 1, 2514: 1, 2509: 1, 2508: 1, 2499: 1, 2488: 1, 2487: 1, 2485: 1, 2482: 1, 2476: 1, 2472: 1, 2464: 1, 2461: 1, 2458: 1, 2453: 1, 2446: 1, 2445: 1, 2438: 1, 2426: 1, 2425: 1, 2424: 1, 2423: 1, 2421: 1, 2416: 1, 2415: 1, 2412: 1, 2409: 1, 2407: 1, 2406: 1, 2404: 1, 2401: 1, 2399: 1, 2398: 1, 2395: 1, 2392: 1, 2386: 1, 2384: 1, 2377: 1, 2373: 1, 2371: 1, 2369: 1, 2367: 1, 2365: 1, 2364: 1, 2363: 1, 2360: 1, 2358: 1, 2353: 1, 2347: 1, 2346: 1, 2345: 1, 2337: 1, 2323: 1, 2317: 1, 2310: 1, 2303: 1, 2302: 1, 2299: 1, 2298: 1, 2296: 1, 2288: 1, 2286: 1, 2283: 1, 2282: 1, 2280: 1, 2279: 1, 2276: 1, 2270: 1, 2262: 1, 2261: 1, 2260: 1, 2257: 1, 2255: 1, 2250: 1, 2248: 1, 2246: 1, 2245: 1, 2243: 1, 2239: 1, 2238: 1, 2235: 1, 2234: 1, 2233: 1, 2229: 1, 2225: 1, 2222: 1, 2221: 1, 2217: 1, 2214: 1, 2206: 1, 2203: 1, 2199: 1, 2196: 1, 2194: 1, 2190: 1, 2189: 1, 2187: 1, 2178: 1, 2175: 1, 2174: 1, 2172: 1, 2170: 1, 2168: 1, 2166: 1, 2162: 1, 2156: 1, 2155: 1, 2152: 1, 2147: 1, 2145: 1, 2144: 1, 2142: 1, 2139: 1, 2137: 1, 2135: 1, 2134: 1, 2128: 1, 2127: 1, 2122: 1, 2120: 1, 2113: 1, 2110: 1, 2109: 1, 2108: 1, 2107: 1, 2101: 1, 2099: 1, 2097: 1, 2095: 1, 2093: 1, 2081: 1, 2078: 1, 2076: 1, 2072: 1, 2069: 1, 2068: 1, 2065: 1, 2064: 1, 2061: 1, 2059: 1, 2057: 1, 2056: 1, 2055: 1, 2053: 1, 2052: 1, 2046: 1, 2044: 1, 2041: 1, 2039: 1, 2038: 1, 2037: 1, 2034: 1, 2033: 1, 2028: 1, 2026: 1, 2025: 1, 2024: 1, 2021: 1, 2017: 1, 2015: 1, 2014: 1, 2011: 1, 2006: 1, 2004: 1, 1998: 1, 1995: 1, 1992: 1, 1990: 1, 1988: 1, 1985: 1, 1984: 1, 1982: 1, 1980: 1, 1965: 1, 1964: 1, 1961: 1, 1960: 1, 1959: 1, 1958: 1, 1957: 1, 1956: 1, 1955: 1, 1954: 1, 1953: 1, 1950: 1, 1944: 1, 1940: 1, 1939: 1, 1938: 1, 1937: 1, 1934: 1, 1933: 1, 1932: 1, 1930: 1, 1928: 1, 1927: 1, 1925: 1, 1923: 1, 1921: 1, 1915: 1, 1914: 1, 1913: 1, 1909: 1, 1908: 1, 1905: 1, 1901: 1, 1899: 1, 1897: 1, 1895: 1, 1891: 1, 1888: 1, 1887: 1, 1886: 1, 1881: 1, 1880: 1, 1876: 1, 1875: 1, 1874: 1, 1873: 1, 1872: 1, 1871: 1, 1870: 1, 1869: 1, 1868: 1, 1867: 1, 1866: 1, 1862: 1, 1857: 1, 1856: 1, 1855: 1, 1854: 1, 1849: 1, 1848: 1, 1846: 1, 1845: 1, 1842: 1, 1840: 1, 1837: 1, 1833: 1, 1832: 1, 1826: 1, 1823: 1, 1820: 1, 1816: 1, 1814: 1, 1813: 1, 1812: 1, 1811: 1, 1810: 1, 1809: 1, 1808: 1, 1805: 1, 1803: 1, 1802: 1, 1801: 1, 1800: 1, 1798: 1, 1797: 1, 1796: 1, 1794: 1, 1791: 1, 1786: 1, 1783: 1, 1782: 1, 1776: 1, 1775: 1, 1773: 1, 1771: 1, 1770: 1, 1766: 1, 1762: 1, 1759: 1, 1757: 1, 1755: 1, 1751: 1, 1750: 1, 1749: 1, 1747: 1, 1746: 1, 1744: 1, 1743: 1, 1742: 1, 1741: 1, 1740: 1, 1736: 1, 1727: 1, 1726: 1, 1724: 1, 1723: 1, 1708: 1, 1707: 1, 1703: 1, 1700: 1, 1697: 1, 1695: 1, 1690: 1, 1689: 1, 1687: 1, 1677: 1, 1671: 1, 1668: 1, 1667: 1, 1665: 1, 1664: 1, 1662: 1, 1660: 1, 1658: 1, 1655: 1, 1653: 1, 1650: 1, 1647: 1, 1644: 1, 1643: 1, 1640: 1, 1638: 1, 1636: 1, 1634: 1, 1633: 1, 1631: 1, 1625: 1, 1620: 1, 1607: 1, 1606: 1, 1601: 1, 1600: 1, 1598: 1, 1597: 1, 1596: 1, 1593: 1, 1592: 1, 1586: 1, 1585: 1, 1575: 1, 1574: 1, 1572: 1, 1570: 1, 1566: 1, 1565: 1, 1563: 1, 1558: 1, 1552: 1, 1550: 1, 1545: 1, 1544: 1, 1543: 1, 1540: 1, 1537: 1, 1536: 1, 1532: 1, 1522: 1, 1521: 1, 1517: 1, 1516: 1, 1512: 1, 1510: 1, 1509: 1, 1507: 1, 1506: 1, 1498: 1, 1496: 1, 1491: 1, 1489: 1, 1483: 1, 1479: 1, 1470: 1, 1469: 1, 1468: 1, 1466: 1, 1463: 1, 1460: 1, 1458: 1, 1450: 1, 1449: 1, 1447: 1, 1444: 1, 1443: 1, 1440: 1, 1438: 1, 1437: 1, 1434: 1, 1431: 1, 1429: 1, 1428: 1, 1426: 1, 1420: 1, 1416: 1, 1415: 1, 1411: 1, 1410: 1, 1408: 1, 1406: 1, 1403: 1, 1400: 1, 1399: 1, 1396: 1, 1393: 1, 1389: 1, 1388: 1, 1384: 1, 1383: 1, 1382: 1, 1380: 1, 1379: 1, 1378: 1, 1377: 1, 1368: 1, 1366: 1, 1365: 1, 1363: 1, 1362: 1, 1361: 1, 1360: 1, 1359: 1, 1355: 1, 1352: 1, 1348: 1, 1343: 1, 1342: 1, 1339: 1, 1338: 1, 1336: 1, 1332: 1, 1329: 1, 1328: 1, 1326: 1, 1324: 1, 1323: 1, 1321: 1, 1320: 1, 1319: 1, 1317: 1, 1314: 1, 1313: 1, 1310: 1, 1305: 1, 1303: 1, 1300: 1, 1295: 1, 1294: 1, 1293: 1, 1290: 1, 1289: 1, 1287: 1, 1284: 1, 1281: 1, 1280: 1, 1279: 1, 1270: 1, 1269: 1, 1267: 1, 1264: 1, 1263: 1, 1262: 1, 1259: 1, 1258: 1, 1257: 1, 1254: 1, 1251: 1, 1247: 1, 1243: 1, 1236: 1, 1232: 1, 1228: 1, 1225: 1, 1224: 1, 1222: 1, 1218: 1, 1217: 1, 1214: 1, 1211: 1, 1208: 1, 1207: 1, 1206: 1, 1204: 1, 1202: 1, 1200: 1, 1199: 1, 1190: 1, 1183: 1, 1182: 1, 1178: 1, 1175: 1, 1174: 1, 1173: 1, 1172: 1, 1170: 1, 1169: 1, 1168: 1, 1167: 1, 1161: 1, 1160: 1, 1156: 1, 1154: 1, 1153: 1, 1147: 1, 1146: 1, 1145: 1, 1142: 1, 1141: 1, 1140: 1, 1129: 1, 1128: 1, 1122: 1, 1119: 1, 1117: 1, 1115: 1, 1112: 1, 1108: 1, 1107: 1, 1106: 1, 1101: 1, 1098: 1, 1097: 1, 1096: 1, 1095: 1, 1094: 1, 1092: 1, 1091: 1, 1089: 1, 1087: 1, 1085: 1, 1084: 1, 1083: 1, 1079: 1, 1077: 1, 1074: 1, 1072: 1, 1068: 1, 1066: 1, 1064: 1, 1062: 1, 1061: 1, 1059: 1, 1058: 1, 1056: 1, 1055: 1, 1054: 1, 1052: 1, 1049: 1, 1046: 1, 1045: 1, 1040: 1, 1035: 1, 1034: 1, 1031: 1, 1028: 1, 1026: 1, 1024: 1, 1022: 1, 1019: 1, 1013: 1, 1009: 1, 1005: 1, 1003: 1, 999: 1, 996: 1, 993: 1, 986: 1, 981: 1, 975: 1, 974: 1, 969: 1, 968: 1, 966: 1, 965: 1, 958: 1, 950: 1, 943: 1, 941: 1, 935: 1, 932: 1, 931: 1, 928: 1, 927: 1, 926: 1, 925: 1, 923: 1, 921: 1, 918: 1, 912: 1, 907: 1, 901: 1, 900: 1, 897: 1, 892: 1, 890: 1, 886: 1, 885: 1, 884: 1, 875: 1, 872: 1, 871: 1, 867: 1, 853: 1, 847: 1, 843: 1, 842: 1, 834: 1, 814: 1, 793: 1, 784: 1, 765: 1, 758: 1, 752: 1, 743: 1, 742: 1, 732: 1, 723: 1, 715: 1, 713: 1, 712: 1, 709: 1, 707: 1, 704: 1, 696: 1, 689: 1, 679: 1, 678: 1, 663: 1, 639: 1, 627: 1, 619: 1, 615: 1, 606: 1, 598: 1, 594: 1, 590: 1, 573: 1, 562: 1, 510: 1, 490: 1, 422: 1})\n"
          ],
          "name": "stdout"
        }
      ]
    },
    {
      "cell_type": "code",
      "metadata": {
        "id": "YnEZbFYjOfA0",
        "colab_type": "code",
        "colab": {
          "base_uri": "https://localhost:8080/",
          "height": 121
        },
        "outputId": "e79e28ca-c142-46a1-d39c-376a97c4050c"
      },
      "source": [
        "cv_log_error_array=[]\n",
        "for i in alpha:\n",
        "    clf = SGDClassifier(alpha=i, penalty='l2', loss='log', random_state=42)\n",
        "    clf.fit(train_text_feature_onehotCoding, y_train)\n",
        "    \n",
        "    sig_clf = CalibratedClassifierCV(clf, method=\"sigmoid\")\n",
        "    sig_clf.fit(train_text_feature_onehotCoding, y_train)\n",
        "    predict_y = sig_clf.predict_proba(cv_text_feature_onehotCoding)\n",
        "    cv_log_error_array.append(log_loss(y_cv, predict_y, labels=clf.classes_, eps=1e-15))\n",
        "    print('For values of alpha = ', i, \"The log loss is:\",log_loss(y_cv, predict_y, labels=clf.classes_, eps=1e-15))\n"
      ],
      "execution_count": 124,
      "outputs": [
        {
          "output_type": "stream",
          "text": [
            "For values of alpha =  1e-05 The log loss is: 1.2900751869419973\n",
            "For values of alpha =  0.0001 The log loss is: 1.1917759168750743\n",
            "For values of alpha =  0.001 The log loss is: 1.1838162917367143\n",
            "For values of alpha =  0.01 The log loss is: 1.34036333804774\n",
            "For values of alpha =  0.1 The log loss is: 1.459272131042803\n",
            "For values of alpha =  1 The log loss is: 1.6174233707082675\n"
          ],
          "name": "stdout"
        }
      ]
    },
    {
      "cell_type": "code",
      "metadata": {
        "id": "e9BLyTreOpHk",
        "colab_type": "code",
        "colab": {
          "base_uri": "https://localhost:8080/",
          "height": 295
        },
        "outputId": "b16b0371-1585-49a1-8b90-f827ba84b1e2"
      },
      "source": [
        "fig, ax = plt.subplots()\n",
        "ax.plot(alpha, cv_log_error_array,c='g')\n",
        "for i, txt in enumerate(np.round(cv_log_error_array,3)):\n",
        "    ax.annotate((alpha[i],np.round(txt,3)), (alpha[i],cv_log_error_array[i]))\n",
        "plt.grid()\n",
        "plt.title(\"Cross Validation Error for each alpha\")\n",
        "plt.xlabel(\"Alpha i's\")\n",
        "plt.ylabel(\"Error measure\")\n",
        "plt.show()"
      ],
      "execution_count": 125,
      "outputs": [
        {
          "output_type": "display_data",
          "data": {
            "image/png": "[encoded data removed]",
            "text/plain": [
              "<Figure size 432x288 with 1 Axes>"
            ]
          },
          "metadata": {
            "tags": []
          }
        }
      ]
    },
    {
      "cell_type": "code",
      "metadata": {
        "id": "vg1Vs1HxOtRk",
        "colab_type": "code",
        "colab": {
          "base_uri": "https://localhost:8080/",
          "height": 69
        },
        "outputId": "8a868374-e25b-4a29-9ca5-6f80acf07aa2"
      },
      "source": [
        "best_alpha = np.argmin(cv_log_error_array)\n",
        "clf = SGDClassifier(alpha=alpha[best_alpha], penalty='l2', loss='log', random_state=42)\n",
        "clf.fit(train_text_feature_onehotCoding, y_train)\n",
        "sig_clf = CalibratedClassifierCV(clf, method=\"sigmoid\")\n",
        "sig_clf.fit(train_text_feature_onehotCoding, y_train)\n",
        "\n",
        "predict_y = sig_clf.predict_proba(train_text_feature_onehotCoding)\n",
        "print('For values of best alpha = ', alpha[best_alpha], \"The train log loss is:\",log_loss(y_train, predict_y, labels=clf.classes_, eps=1e-15))\n",
        "predict_y = sig_clf.predict_proba(cv_text_feature_onehotCoding)\n",
        "print('For values of best alpha = ', alpha[best_alpha], \"The cross validation log loss is:\",log_loss(y_cv, predict_y, labels=clf.classes_, eps=1e-15))\n",
        "predict_y = sig_clf.predict_proba(test_text_feature_onehotCoding)\n",
        "print('For values of best alpha = ', alpha[best_alpha], \"The test log loss is:\",log_loss(y_test, predict_y, labels=clf.classes_, eps=1e-15))\n"
      ],
      "execution_count": 126,
      "outputs": [
        {
          "output_type": "stream",
          "text": [
            "For values of best alpha =  0.001 The train log loss is: 0.6399757502321904\n",
            "For values of best alpha =  0.001 The cross validation log loss is: 1.1838162917367143\n",
            "For values of best alpha =  0.001 The test log loss is: 1.293653292191183\n"
          ],
          "name": "stdout"
        }
      ]
    },
    {
      "cell_type": "code",
      "metadata": {
        "id": "OCNdKAofOy3D",
        "colab_type": "code",
        "colab": {
          "base_uri": "https://localhost:8080/",
          "height": 52
        },
        "outputId": "8bd3933b-1e24-4995-b69d-7182ca0f78f8"
      },
      "source": [
        "def get_intersec_text(df):\n",
        "    df_text_vec = CountVectorizer(min_df=3)\n",
        "    df_text_fea = df_text_vec.fit_transform(df['TEXT'])\n",
        "    df_text_features = df_text_vec.get_feature_names()\n",
        "\n",
        "    df_text_fea_counts = df_text_fea.sum(axis=0).A1\n",
        "    df_text_fea_dict = dict(zip(list(df_text_features),df_text_fea_counts))\n",
        "    len1 = len(set(df_text_features))\n",
        "    len2 = len(set(train_text_features) & set(df_text_features))\n",
        "    return len1,len2\n",
        "len1,len2 = get_intersec_text(test_df)\n",
        "print(np.round((len2/len1)*100, 3), \"% of word of test data appeared in train data\")\n",
        "len1,len2 = get_intersec_text(cv_df)\n",
        "print(np.round((len2/len1)*100, 3), \"% of word of Cross Validation appeared in train data\")"
      ],
      "execution_count": 127,
      "outputs": [
        {
          "output_type": "stream",
          "text": [
            "97.164 % of word of test data appeared in train data\n",
            "98.149 % of word of Cross Validation appeared in train data\n"
          ],
          "name": "stdout"
        }
      ]
    },
    {
      "cell_type": "code",
      "metadata": {
        "id": "ZnMEv1usPhXO",
        "colab_type": "code",
        "colab": {}
      },
      "source": [
        "def report_log_loss(train_x, train_y, test_x, test_y,  clf):\n",
        "    clf.fit(train_x, train_y)\n",
        "    sig_clf = CalibratedClassifierCV(clf, method=\"sigmoid\")\n",
        "    sig_clf.fit(train_x, train_y)\n",
        "    sig_clf_probs = sig_clf.predict_proba(test_x)\n",
        "    return log_loss(test_y, sig_clf_probs, eps=1e-15)"
      ],
      "execution_count": 0,
      "outputs": []
    },
    {
      "cell_type": "code",
      "metadata": {
        "id": "BPzaFCJHPpnW",
        "colab_type": "code",
        "colab": {}
      },
      "source": [
        "def plot_confusion_matrix(test_y, predict_y):\n",
        "    C = confusion_matrix(test_y, predict_y)\n",
        "    \n",
        "    A =(((C.T)/(C.sum(axis=1))).T)\n",
        "    \n",
        "    B =(C/C.sum(axis=0)) \n",
        "    labels = [1,2,3,4,5,6,7,8,9]\n",
        "    # representing A in heatmap format\n",
        "    print(\"-\"*20, \"Confusion matrix\", \"-\"*20)\n",
        "    plt.figure(figsize=(20,7))\n",
        "    sns.heatmap(C, annot=True, cmap=\"YlGnBu\", fmt=\".3f\", xticklabels=labels, yticklabels=labels)\n",
        "    plt.xlabel('Predicted Class')\n",
        "    plt.ylabel('Original Class')\n",
        "    plt.show()\n",
        "\n",
        "    print(\"-\"*20, \"Precision matrix (Columm Sum=1)\", \"-\"*20)\n",
        "    plt.figure(figsize=(20,7))\n",
        "    sns.heatmap(B, annot=True, cmap=\"YlGnBu\", fmt=\".3f\", xticklabels=labels, yticklabels=labels)\n",
        "    plt.xlabel('Predicted Class')\n",
        "    plt.ylabel('Original Class')\n",
        "    plt.show()\n",
        "    \n",
        "    # representing B in heatmap format\n",
        "    print(\"-\"*20, \"Recall matrix (Row sum=1)\", \"-\"*20)\n",
        "    plt.figure(figsize=(20,7))\n",
        "    sns.heatmap(A, annot=True, cmap=\"YlGnBu\", fmt=\".3f\", xticklabels=labels, yticklabels=labels)\n",
        "    plt.xlabel('Predicted Class')\n",
        "    plt.ylabel('Original Class')\n",
        "    plt.show()\n",
        "\n",
        "\n",
        "def predict_and_plot_confusion_matrix(train_x, train_y,test_x, test_y, clf):\n",
        "    clf.fit(train_x, train_y)\n",
        "    sig_clf = CalibratedClassifierCV(clf, method=\"sigmoid\")\n",
        "    sig_clf.fit(train_x, train_y)\n",
        "    pred_y = sig_clf.predict(test_x)\n",
        "\n",
        "    # for calculating log_loss we will provide the array of probabilities belongs to each class\n",
        "    print(\"Log loss :\",log_loss(test_y, sig_clf.predict_proba(test_x)))\n",
        "    # calculating the number of data points that are misclassified\n",
        "    print(\"Number of mis-classified points :\", np.count_nonzero((pred_y- test_y))/test_y.shape[0])\n",
        "    plot_confusion_matrix(test_y, pred_y)"
      ],
      "execution_count": 0,
      "outputs": []
    },
    {
      "cell_type": "code",
      "metadata": {
        "id": "zqKKwOb_QC-m",
        "colab_type": "code",
        "colab": {}
      },
      "source": [
        "# this function will be used just for naive bayes\n",
        "# for the given indices, we will print the name of the features\n",
        "# and we will check whether the feature present in the test point text or not\n",
        "def get_impfeature_names(indices, text, gene, var, no_features):\n",
        "    gene_count_vec = CountVectorizer()\n",
        "    var_count_vec = CountVectorizer()\n",
        "    text_count_vec = CountVectorizer(min_df=3)\n",
        "    \n",
        "    gene_vec = gene_count_vec.fit(train_df['Gene'])\n",
        "    var_vec  = var_count_vec.fit(train_df['Variation'])\n",
        "    text_vec = text_count_vec.fit(train_df['TEXT'])\n",
        "    \n",
        "    fea1_len = len(gene_vec.get_feature_names())\n",
        "    fea2_len = len(var_count_vec.get_feature_names())\n",
        "    \n",
        "    word_present = 0\n",
        "    for i,v in enumerate(indices):\n",
        "        if (v < fea1_len):\n",
        "            word = gene_vec.get_feature_names()[v]\n",
        "            yes_no = True if word == gene else False\n",
        "            if yes_no:\n",
        "                word_present += 1\n",
        "                print(i, \"Gene feature [{}] present in test data point [{}]\".format(word,yes_no))\n",
        "        elif (v < fea1_len+fea2_len):\n",
        "            word = var_vec.get_feature_names()[v-(fea1_len)]\n",
        "            yes_no = True if word == var else False\n",
        "            if yes_no:\n",
        "                word_present += 1\n",
        "                print(i, \"variation feature [{}] present in test data point [{}]\".format(word,yes_no))\n",
        "        else:\n",
        "            word = text_vec.get_feature_names()[v-(fea1_len+fea2_len)]\n",
        "            yes_no = True if word in text.split() else False\n",
        "            if yes_no:\n",
        "                word_present += 1\n",
        "                print(i, \"Text feature [{}] present in test data point [{}]\".format(word,yes_no))\n",
        "\n",
        "    print(\"Out of the top \",no_features,\" features \", word_present, \"are present in query point\")"
      ],
      "execution_count": 0,
      "outputs": []
    },
    {
      "cell_type": "code",
      "metadata": {
        "id": "UWhfoXCzQQoJ",
        "colab_type": "code",
        "colab": {}
      },
      "source": [
        "# merging gene, variance and text features\n",
        "\n",
        "# building train, test and cross validation data sets\n",
        "\n",
        "train_gene_var_onehotCoding = hstack((train_gene_feature_onehotCoding,train_variation_feature_onehotCoding))\n",
        "test_gene_var_onehotCoding = hstack((test_gene_feature_onehotCoding,test_variation_feature_onehotCoding))\n",
        "cv_gene_var_onehotCoding = hstack((cv_gene_feature_onehotCoding,cv_variation_feature_onehotCoding))\n",
        "\n",
        "train_x_onehotCoding = hstack((train_gene_var_onehotCoding, train_text_feature_onehotCoding)).tocsr()\n",
        "train_y = np.array(list(train_df['Class']))\n",
        "\n",
        "test_x_onehotCoding = hstack((test_gene_var_onehotCoding, test_text_feature_onehotCoding)).tocsr()\n",
        "test_y = np.array(list(test_df['Class']))\n",
        "\n",
        "cv_x_onehotCoding = hstack((cv_gene_var_onehotCoding, cv_text_feature_onehotCoding)).tocsr()\n",
        "cv_y = np.array(list(cv_df['Class']))\n",
        "\n",
        "\n",
        "train_gene_var_responseCoding = np.hstack((train_gene_feature_responseCoding,train_variation_feature_responseCoding))\n",
        "test_gene_var_responseCoding = np.hstack((test_gene_feature_responseCoding,test_variation_feature_responseCoding))\n",
        "cv_gene_var_responseCoding = np.hstack((cv_gene_feature_responseCoding,cv_variation_feature_responseCoding))\n",
        "\n",
        "train_x_responseCoding = np.hstack((train_gene_var_responseCoding, train_text_feature_responseCoding))\n",
        "test_x_responseCoding = np.hstack((test_gene_var_responseCoding, test_text_feature_responseCoding))\n",
        "cv_x_responseCoding = np.hstack((cv_gene_var_responseCoding, cv_text_feature_responseCoding))"
      ],
      "execution_count": 0,
      "outputs": []
    },
    {
      "cell_type": "code",
      "metadata": {
        "id": "0VCuExLsQU9L",
        "colab_type": "code",
        "colab": {
          "base_uri": "https://localhost:8080/",
          "height": 156
        },
        "outputId": "8bef087c-cecb-4c5b-cac2-f8707cd7c4e8"
      },
      "source": [
        "print(\"One hot encoding features :\")\n",
        "print(\"(number of data points * number of features) in train data = \", train_x_onehotCoding.shape)\n",
        "print(\"(number of data points * number of features) in test data = \", test_x_onehotCoding.shape)\n",
        "print(\"(number of data points * number of features) in cross validation data =\", cv_x_onehotCoding.shape)\n",
        "\n",
        "print(\" Response encoding features :\")\n",
        "print(\"(number of data points * number of features) in train data = \", train_x_responseCoding.shape)\n",
        "print(\"(number of data points * number of features) in test data = \", test_x_responseCoding.shape)\n",
        "print(\"(number of data points * number of features) in cross validation data =\", cv_x_responseCoding.shape)"
      ],
      "execution_count": 133,
      "outputs": [
        {
          "output_type": "stream",
          "text": [
            "One hot encoding features :\n",
            "(number of data points * number of features) in train data =  (2124, 55101)\n",
            "(number of data points * number of features) in test data =  (665, 55101)\n",
            "(number of data points * number of features) in cross validation data = (532, 55101)\n",
            " Response encoding features :\n",
            "(number of data points * number of features) in train data =  (2124, 27)\n",
            "(number of data points * number of features) in test data =  (665, 27)\n",
            "(number of data points * number of features) in cross validation data = (532, 27)\n"
          ],
          "name": "stdout"
        }
      ]
    }
  ]
}